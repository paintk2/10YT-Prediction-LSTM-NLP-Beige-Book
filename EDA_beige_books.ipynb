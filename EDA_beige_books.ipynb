{
 "cells": [
  {
   "cell_type": "markdown",
   "id": "98453647-7ee8-412c-ba5f-64bbfa8c1477",
   "metadata": {},
   "source": [
    "# Import Packages"
   ]
  },
  {
   "cell_type": "code",
   "execution_count": 1,
   "id": "24bc576b-971b-4970-8731-a60a062a8b0b",
   "metadata": {},
   "outputs": [],
   "source": [
    "import numpy as np\n",
    "import pandas as pd\n",
    "import matplotlib.pyplot as plt\n",
    "import seaborn as sns\n",
    "import string\n",
    "import re\n",
    "import nltk\n",
    "\n",
    "from tqdm import trange\n",
    "from nltk import tokenize\n",
    "from nltk.corpus import stopwords\n",
    "from nltk.stem import WordNetLemmatizer\n",
    "from nltk.probability import FreqDist\n",
    "from collections import Counter\n",
    "from sklearn.feature_extraction.text import CountVectorizer"
   ]
  },
  {
   "cell_type": "markdown",
   "id": "cab0208d-1e1e-4744-801d-1c5e7ff694d7",
   "metadata": {},
   "source": [
    "# Import Data"
   ]
  },
  {
   "cell_type": "code",
   "execution_count": 20,
   "id": "3bf2d091-74be-42ae-bce3-8fd43572add2",
   "metadata": {},
   "outputs": [
    {
     "data": {
      "text/html": [
       "<div>\n",
       "<style scoped>\n",
       "    .dataframe tbody tr th:only-of-type {\n",
       "        vertical-align: middle;\n",
       "    }\n",
       "\n",
       "    .dataframe tbody tr th {\n",
       "        vertical-align: top;\n",
       "    }\n",
       "\n",
       "    .dataframe thead th {\n",
       "        text-align: right;\n",
       "    }\n",
       "</style>\n",
       "<table border=\"1\" class=\"dataframe\">\n",
       "  <thead>\n",
       "    <tr style=\"text-align: right;\">\n",
       "      <th></th>\n",
       "      <th>time_index</th>\n",
       "      <th>region</th>\n",
       "      <th>sentence</th>\n",
       "    </tr>\n",
       "  </thead>\n",
       "  <tbody>\n",
       "    <tr>\n",
       "      <th>0</th>\n",
       "      <td>1970-05-01</td>\n",
       "      <td>at</td>\n",
       "      <td>The mood of our directors varies from pessimis...</td>\n",
       "    </tr>\n",
       "    <tr>\n",
       "      <th>1</th>\n",
       "      <td>1970-05-01</td>\n",
       "      <td>at</td>\n",
       "      <td>If any consensus exists, it is that business a...</td>\n",
       "    </tr>\n",
       "    <tr>\n",
       "      <th>2</th>\n",
       "      <td>1970-05-01</td>\n",
       "      <td>at</td>\n",
       "      <td>Many major economic indices should drift downw...</td>\n",
       "    </tr>\n",
       "    <tr>\n",
       "      <th>3</th>\n",
       "      <td>1970-05-01</td>\n",
       "      <td>at</td>\n",
       "      <td>In the pessimistic vein, a leading department ...</td>\n",
       "    </tr>\n",
       "    <tr>\n",
       "      <th>4</th>\n",
       "      <td>1970-05-01</td>\n",
       "      <td>at</td>\n",
       "      <td>The store reported that labor costs were up 8 ...</td>\n",
       "    </tr>\n",
       "  </tbody>\n",
       "</table>\n",
       "</div>"
      ],
      "text/plain": [
       "  time_index region                                           sentence\n",
       "0 1970-05-01     at  The mood of our directors varies from pessimis...\n",
       "1 1970-05-01     at  If any consensus exists, it is that business a...\n",
       "2 1970-05-01     at  Many major economic indices should drift downw...\n",
       "3 1970-05-01     at  In the pessimistic vein, a leading department ...\n",
       "4 1970-05-01     at  The store reported that labor costs were up 8 ..."
      ]
     },
     "execution_count": 20,
     "metadata": {},
     "output_type": "execute_result"
    }
   ],
   "source": [
    "data = pd.read_csv('../data/beige_books_1970_2024.csv')\n",
    "data = data.drop(['Unnamed: 0'], axis=1)\n",
    "data.time_index = pd.to_datetime(data.time_index)\n",
    "data.head()"
   ]
  },
  {
   "cell_type": "markdown",
   "id": "fa0298f8-5abe-4f3f-bd22-fa467bb481cb",
   "metadata": {},
   "source": [
    "# Clean Up "
   ]
  },
  {
   "cell_type": "code",
   "execution_count": 21,
   "id": "b4b93917-7e12-4165-b2cb-c2c8cacd05ed",
   "metadata": {},
   "outputs": [
    {
     "data": {
      "text/html": [
       "<div>\n",
       "<style scoped>\n",
       "    .dataframe tbody tr th:only-of-type {\n",
       "        vertical-align: middle;\n",
       "    }\n",
       "\n",
       "    .dataframe tbody tr th {\n",
       "        vertical-align: top;\n",
       "    }\n",
       "\n",
       "    .dataframe thead th {\n",
       "        text-align: right;\n",
       "    }\n",
       "</style>\n",
       "<table border=\"1\" class=\"dataframe\">\n",
       "  <thead>\n",
       "    <tr style=\"text-align: right;\">\n",
       "      <th></th>\n",
       "      <th>time_index</th>\n",
       "      <th>region</th>\n",
       "      <th>sentence</th>\n",
       "    </tr>\n",
       "  </thead>\n",
       "  <tbody>\n",
       "    <tr>\n",
       "      <th>0</th>\n",
       "      <td>1970-05-01</td>\n",
       "      <td>at</td>\n",
       "      <td>the mood of our directors varies from pessimis...</td>\n",
       "    </tr>\n",
       "    <tr>\n",
       "      <th>1</th>\n",
       "      <td>1970-05-01</td>\n",
       "      <td>at</td>\n",
       "      <td>if any consensus exists it is that business ac...</td>\n",
       "    </tr>\n",
       "    <tr>\n",
       "      <th>2</th>\n",
       "      <td>1970-05-01</td>\n",
       "      <td>at</td>\n",
       "      <td>many major economic indices should drift downw...</td>\n",
       "    </tr>\n",
       "    <tr>\n",
       "      <th>3</th>\n",
       "      <td>1970-05-01</td>\n",
       "      <td>at</td>\n",
       "      <td>in the pessimistic vein a leading department s...</td>\n",
       "    </tr>\n",
       "    <tr>\n",
       "      <th>4</th>\n",
       "      <td>1970-05-01</td>\n",
       "      <td>at</td>\n",
       "      <td>the store reported that labor costs were up 8 ...</td>\n",
       "    </tr>\n",
       "  </tbody>\n",
       "</table>\n",
       "</div>"
      ],
      "text/plain": [
       "  time_index region                                           sentence\n",
       "0 1970-05-01     at  the mood of our directors varies from pessimis...\n",
       "1 1970-05-01     at  if any consensus exists it is that business ac...\n",
       "2 1970-05-01     at  many major economic indices should drift downw...\n",
       "3 1970-05-01     at  in the pessimistic vein a leading department s...\n",
       "4 1970-05-01     at  the store reported that labor costs were up 8 ..."
      ]
     },
     "execution_count": 21,
     "metadata": {},
     "output_type": "execute_result"
    }
   ],
   "source": [
    "data.sentence = data.sentence.str.lower()\n",
    "data.sentence = data.sentence.str.translate(str.maketrans('', '', string.punctuation))\n",
    "data.head()"
   ]
  },
  {
   "cell_type": "markdown",
   "id": "04649e90-54a2-4c73-9007-0c23f83b4af9",
   "metadata": {},
   "source": [
    "# EDA"
   ]
  },
  {
   "cell_type": "markdown",
   "id": "ee5d1174-3d33-4751-a337-5dc2ec1afb25",
   "metadata": {},
   "source": [
    "- Some code used from https://www.kaggle.com/code/harshsingh2209/complete-guide-to-eda-on-text-data"
   ]
  },
  {
   "cell_type": "markdown",
   "id": "b0090c60-3b21-49dd-98f3-62d1c84cbf39",
   "metadata": {},
   "source": [
    "## Sentences "
   ]
  },
  {
   "cell_type": "code",
   "execution_count": 4,
   "id": "355ad08e-fb06-418a-a855-110937d740b6",
   "metadata": {},
   "outputs": [
    {
     "data": {
      "text/plain": [
       "count    327504.000000\n",
       "mean        119.606521\n",
       "std          49.216355\n",
       "min           0.000000\n",
       "25%          84.000000\n",
       "50%         114.000000\n",
       "75%         149.000000\n",
       "max        1072.000000\n",
       "Name: sentence, dtype: float64"
      ]
     },
     "execution_count": 4,
     "metadata": {},
     "output_type": "execute_result"
    }
   ],
   "source": [
    "# get sentence lengths \n",
    "sent_lengths_char = data.sentence.str.len()\n",
    "\n",
    "# length summary stats \n",
    "sent_lengths_char.describe()"
   ]
  },
  {
   "cell_type": "code",
   "execution_count": 5,
   "id": "04671c02-5ad4-4167-9b06-78f552f4d91b",
   "metadata": {},
   "outputs": [
    {
     "data": {
      "text/html": [
       "<div>\n",
       "<style scoped>\n",
       "    .dataframe tbody tr th:only-of-type {\n",
       "        vertical-align: middle;\n",
       "    }\n",
       "\n",
       "    .dataframe tbody tr th {\n",
       "        vertical-align: top;\n",
       "    }\n",
       "\n",
       "    .dataframe thead th {\n",
       "        text-align: right;\n",
       "    }\n",
       "</style>\n",
       "<table border=\"1\" class=\"dataframe\">\n",
       "  <thead>\n",
       "    <tr style=\"text-align: right;\">\n",
       "      <th></th>\n",
       "      <th>time_index</th>\n",
       "      <th>region</th>\n",
       "      <th>sentence</th>\n",
       "    </tr>\n",
       "  </thead>\n",
       "  <tbody>\n",
       "    <tr>\n",
       "      <th>23123</th>\n",
       "      <td>1974-11-01</td>\n",
       "      <td>mi</td>\n",
       "      <td>2</td>\n",
       "    </tr>\n",
       "    <tr>\n",
       "      <th>23125</th>\n",
       "      <td>1974-11-01</td>\n",
       "      <td>mi</td>\n",
       "      <td>3</td>\n",
       "    </tr>\n",
       "    <tr>\n",
       "      <th>23127</th>\n",
       "      <td>1974-11-01</td>\n",
       "      <td>mi</td>\n",
       "      <td>4</td>\n",
       "    </tr>\n",
       "    <tr>\n",
       "      <th>46133</th>\n",
       "      <td>1978-06-01</td>\n",
       "      <td>bo</td>\n",
       "      <td>a</td>\n",
       "    </tr>\n",
       "    <tr>\n",
       "      <th>46135</th>\n",
       "      <td>1978-06-01</td>\n",
       "      <td>bo</td>\n",
       "      <td>b</td>\n",
       "    </tr>\n",
       "    <tr>\n",
       "      <th>139476</th>\n",
       "      <td>1997-03-01</td>\n",
       "      <td>ny</td>\n",
       "      <td>s</td>\n",
       "    </tr>\n",
       "  </tbody>\n",
       "</table>\n",
       "</div>"
      ],
      "text/plain": [
       "        time_index region sentence\n",
       "23123   1974-11-01     mi        2\n",
       "23125   1974-11-01     mi        3\n",
       "23127   1974-11-01     mi        4\n",
       "46133   1978-06-01     bo        a\n",
       "46135   1978-06-01     bo        b\n",
       "139476  1997-03-01     ny        s"
      ]
     },
     "execution_count": 5,
     "metadata": {},
     "output_type": "execute_result"
    }
   ],
   "source": [
    "# look at sentence length = 1 \n",
    "data[sent_lengths_char == 1]"
   ]
  },
  {
   "cell_type": "code",
   "execution_count": 6,
   "id": "47ef95a1-1656-464d-9b1b-9622d8138b54",
   "metadata": {},
   "outputs": [
    {
     "data": {
      "text/plain": [
       "array(['the', 'retail', 'negotiations', 'or income taxes',\n",
       "       'a minneapolisst', 'minneapolisst', 'last year', '2', '3', '4',\n",
       "       '4 per cent', 'paul area', '5 no', '6 and no', '1450 apr', '2137',\n",
       "       'this year', 'recent months', 'strong', '', 'rate', 'weather',\n",
       "       'generally slow', 'banks', 'during march', 'a', 'b', 'expansion',\n",
       "       'district', 'economic boom', 'and supplies', 'several years',\n",
       "       'to be vigorous', 'paul in midjuly', 'other crops', 'quarter and',\n",
       "       'order backlogs', 'mt', 'capital goods', 'paul retailers',\n",
       "       'labor markets', 'transportation', 'see finance', 'lanstonco',\n",
       "       'most', 'however', 'but many homes', 'traffic', 'remains weak',\n",
       "       'also', 'in georgia', 'nevertheless', 'minneapolis',\n",
       "       'increasingly', 'construction', 'twenty', '1986', 'ge',\n",
       "       'be attainable', 'agriculture', 'farm incomes', 'worth',\n",
       "       'in dallasft', 'from 080 per lb', 'a year ago', 'from 110 per lb',\n",
       "       'cloud minnesota', 'to rise', 'worth area', 'paul',\n",
       "       'boeing however', 'in addition ibm', 'ibm', 'sd', 'sd area',\n",
       "       'sioux falls sd', 'employment', '1 percent', 'and below plan',\n",
       "       'sales', 'wages', 'in addition ge', 'no longer', 'lows districts',\n",
       "       'an ok', 'looking ahead', 'st', 's improvements', 's farmers',\n",
       "       's pace', 's levels', 's businesses', 's level', 'california',\n",
       "       's end', 'the district', 'retailers', 'expectations',\n",
       "       's and women', 'lackluster', 'extraordinary', 'the dollar',\n",
       "       'good sales', 'still', 's clothing', 'degrees in june',\n",
       "       'manhattan', 's', 'taxfree week', 'great shape', 'cleaner',\n",
       "       's blizzard', 'respondents', 'jobhopping', 'taxfree',\n",
       "       'hale and hearty', 'mostly flat', 'or', 'steady', 'home builder',\n",
       "       'market', 'cards', 'help', 'paul firm', 'early reports',\n",
       "       'the mix varies', 'paul banker', 'was mixed', 'in st', 'the st',\n",
       "       'cloud minn', 'a st', 'paul jobs', 'in the suburbs', 'a recent st',\n",
       "       'a december st', 'postal service', 'had dried up',\n",
       "       'paularea plants', 'visits to mt', 'remained strong', 'summary',\n",
       "       'manufacturing', 'bankingfinance', 'pricescosts', 'retail sales',\n",
       "       'banking', 'prices', 'labor market', 'services', 'energy',\n",
       "       'varied', 'manufacturers', 'enormous', 'wage pressure',\n",
       "       'very very slow', 'boston', 's cyclical peak', 's highways',\n",
       "       'bargains', 's hospital', 'very difficult', 'but', 'and',\n",
       "       'up a little bit', 'an issue', 'a rough patch', 'very busy',\n",
       "       'hours had been', 'hesitant', 'didn', 'pretty slow',\n",
       "       'slower sales', 'very quiet', 'renttoown', 'some pickup',\n",
       "       'drop off', 'few projects', 'in the pipeline', 'tepid', 'richmond',\n",
       "       'return to top', 'sales in st', 'to the other', 'remained low',\n",
       "       'reasons varied', 'were lucky', 'auto sales rose',\n",
       "       'home sales rose', 'outlooks varied'], dtype=object)"
      ]
     },
     "execution_count": 6,
     "metadata": {},
     "output_type": "execute_result"
    }
   ],
   "source": [
    "# look at sentence length <= 15 \n",
    "data[sent_lengths_char <= 15].sentence.unique()"
   ]
  },
  {
   "cell_type": "markdown",
   "id": "c35e7154-4599-413e-8d73-181be3241dbb",
   "metadata": {},
   "source": [
    "- one or two word sentences may be topics, as BB intoriduced topics later on"
   ]
  },
  {
   "cell_type": "markdown",
   "id": "f859a353-4e1e-4b0c-92dd-07d0259ddda3",
   "metadata": {},
   "source": [
    "## Words"
   ]
  },
  {
   "cell_type": "code",
   "execution_count": 71,
   "id": "92b44f7e-86c9-4990-8715-905945333d34",
   "metadata": {},
   "outputs": [
    {
     "data": {
      "text/plain": [
       "['the',\n",
       " 'mood',\n",
       " 'of',\n",
       " 'our',\n",
       " 'directors',\n",
       " 'varies',\n",
       " 'from',\n",
       " 'pessimism',\n",
       " 'to',\n",
       " 'optimism']"
      ]
     },
     "execution_count": 71,
     "metadata": {},
     "output_type": "execute_result"
    }
   ],
   "source": [
    "data['txt_list'] = data.sentence.str.split()\n",
    "word_lists = data.txt_list\n",
    "data.txt_list[0]"
   ]
  },
  {
   "cell_type": "code",
   "execution_count": 8,
   "id": "a35f74fb-dac8-4517-9728-3f82472b8df1",
   "metadata": {},
   "outputs": [
    {
     "data": {
      "text/plain": [
       "count    327504.000000\n",
       "mean         18.568650\n",
       "std           7.960989\n",
       "min           0.000000\n",
       "25%          13.000000\n",
       "50%          18.000000\n",
       "75%          23.000000\n",
       "max         186.000000\n",
       "Name: txt_list, dtype: float64"
      ]
     },
     "execution_count": 8,
     "metadata": {},
     "output_type": "execute_result"
    }
   ],
   "source": [
    "words_per_sent = data.txt_list.str.len()\n",
    "words_per_sent.describe()"
   ]
  },
  {
   "cell_type": "code",
   "execution_count": 9,
   "id": "c30e187f-f32b-490e-b781-0ad77322dad1",
   "metadata": {},
   "outputs": [
    {
     "data": {
      "text/plain": [
       "['',\n",
       " '1 percent',\n",
       " '1450 apr',\n",
       " '1986',\n",
       " '2',\n",
       " '2137',\n",
       " '3',\n",
       " '4',\n",
       " '5 no',\n",
       " 'a',\n",
       " 'a minneapolisst',\n",
       " 'a st',\n",
       " 'absolutely awful',\n",
       " 'agricultural credit',\n",
       " 'agricultural highlights',\n",
       " 'agriculture',\n",
       " 'also',\n",
       " 'an issue',\n",
       " 'an ok',\n",
       " 'and',\n",
       " 'and supplies',\n",
       " 'automobile sales',\n",
       " 'b',\n",
       " 'banking',\n",
       " 'bankingfinance',\n",
       " 'banks',\n",
       " 'bargains',\n",
       " 'be attainable',\n",
       " 'boeing however',\n",
       " 'boston',\n",
       " 'business spending',\n",
       " 'but',\n",
       " 'california',\n",
       " 'capital goods',\n",
       " 'cards',\n",
       " 'christmas season',\n",
       " 'cleaner',\n",
       " 'cloud minn',\n",
       " 'cloud minnesota',\n",
       " 'considerable briskness',\n",
       " 'construction',\n",
       " 'construction increased',\n",
       " 'construction sites',\n",
       " 'constructionreal estate',\n",
       " 'consumer spending',\n",
       " 'didn',\n",
       " 'district',\n",
       " 'district comments',\n",
       " 'drop off',\n",
       " 'during march',\n",
       " 'early reports',\n",
       " 'economic boom',\n",
       " 'economic situation',\n",
       " 'employment',\n",
       " 'energy',\n",
       " 'enormous',\n",
       " 'everybodys hustling',\n",
       " 'expansion',\n",
       " 'expectations',\n",
       " 'expectations deteriorated',\n",
       " 'extraordinary',\n",
       " 'farm incomes',\n",
       " 'few projects',\n",
       " 'financial services',\n",
       " 'freight transportation',\n",
       " 'ge',\n",
       " 'generally expanding',\n",
       " 'generally slow',\n",
       " 'generally sluggish',\n",
       " 'good sales',\n",
       " 'great shape',\n",
       " 'help',\n",
       " 'hesitant',\n",
       " 'home builder',\n",
       " 'hospitality industry',\n",
       " 'housingconstruction',\n",
       " 'however',\n",
       " 'ibm',\n",
       " 'in dallasft',\n",
       " 'in georgia',\n",
       " 'in minneapolisst',\n",
       " 'in st',\n",
       " 'increasingly',\n",
       " 'jobhopping',\n",
       " 'labor market',\n",
       " 'labor markets',\n",
       " 'lackluster',\n",
       " 'lanstonco',\n",
       " 'large minneapolisst',\n",
       " 'last year',\n",
       " 'looking ahead',\n",
       " 'lows districts',\n",
       " 'major minneapolisst',\n",
       " 'manhattan',\n",
       " 'manufacturers',\n",
       " 'manufacturing',\n",
       " 'many minneapolisst',\n",
       " 'market',\n",
       " 'midtown manhattan',\n",
       " 'minneapolis',\n",
       " 'minneapolisst',\n",
       " 'most',\n",
       " 'mostly flat',\n",
       " 'mt',\n",
       " 'negotiations',\n",
       " 'nevertheless',\n",
       " 'no longer',\n",
       " 'nonresidential construction',\n",
       " 'of disintermediation',\n",
       " 'or',\n",
       " 'order backlogs',\n",
       " 'other crops',\n",
       " 'outlooks varied',\n",
       " 'outlooks weakened',\n",
       " 'particularly steel',\n",
       " 'paul',\n",
       " 'paul area',\n",
       " 'paul banker',\n",
       " 'paul firm',\n",
       " 'paul jobs',\n",
       " 'paul retailers',\n",
       " 'paularea plants',\n",
       " 'postal service',\n",
       " 'pretty slow',\n",
       " 'prices',\n",
       " 'pricescosts',\n",
       " 'quarter and',\n",
       " 'rate',\n",
       " 'reasons varied',\n",
       " 'recent minneapolisst',\n",
       " 'recent months',\n",
       " 'remained low',\n",
       " 'remained strong',\n",
       " 'remains weak',\n",
       " 'renttoown',\n",
       " 'respondents',\n",
       " 'retail',\n",
       " 'retail sales',\n",
       " 'retailers',\n",
       " 'retailers reported',\n",
       " 'richmond',\n",
       " 'ridiculously low',\n",
       " 's',\n",
       " 's blizzard',\n",
       " 's businesses',\n",
       " 's clothing',\n",
       " 's end',\n",
       " 's farmers',\n",
       " 's highways',\n",
       " 's hospital',\n",
       " 's improvements',\n",
       " 's level',\n",
       " 's levels',\n",
       " 's pace',\n",
       " 'sales',\n",
       " 'scattered callback',\n",
       " 'sd',\n",
       " 'sd area',\n",
       " 'see finance',\n",
       " 'services',\n",
       " 'several minneapolisst',\n",
       " 'several years',\n",
       " 'slower sales',\n",
       " 'some pickup',\n",
       " 'st',\n",
       " 'steady',\n",
       " 'still',\n",
       " 'strong',\n",
       " 'summary',\n",
       " 'suppliers plants',\n",
       " 'taxfree',\n",
       " 'taxfree week',\n",
       " 'tepid',\n",
       " 'the',\n",
       " 'the district',\n",
       " 'the dollar',\n",
       " 'the minneapolisst',\n",
       " 'the st',\n",
       " 'this year',\n",
       " 'to rise',\n",
       " 'traffic',\n",
       " 'transportation',\n",
       " 'twenty',\n",
       " 'unemployment nsa',\n",
       " 'varied',\n",
       " 'very busy',\n",
       " 'very difficult',\n",
       " 'very quiet',\n",
       " 'wage pressure',\n",
       " 'wages',\n",
       " 'was mixed',\n",
       " 'weather',\n",
       " 'were lucky',\n",
       " 'worth',\n",
       " 'worth area']"
      ]
     },
     "execution_count": 9,
     "metadata": {},
     "output_type": "execute_result"
    }
   ],
   "source": [
    "# pull out 1-2 word sentences to explore provided topics \n",
    "sorted(word_lists[words_per_sent <= 2].str.join(' ').unique())"
   ]
  },
  {
   "cell_type": "code",
   "execution_count": 114,
   "id": "5a1a1938-7c65-4dd1-918d-0f4566625f45",
   "metadata": {},
   "outputs": [
    {
     "data": {
      "text/plain": [
       "24"
      ]
     },
     "execution_count": 114,
     "metadata": {},
     "output_type": "execute_result"
    }
   ],
   "source": [
    "possible_topics = ['agriculture', 'sales', 'banking', 'spending', 'capital goods', 'construction', 'economic situation', 'employment', 'energy', 'expectations', 'financial services', 'transportation', 'hospitality industry', 'housing construction', 'labor market', 'manufacturing', 'construction', 'retail', 'services', 'hospital', 'the dollar', 'transportation', 'wages', 'weather']\n",
    "len(possible_topics)"
   ]
  },
  {
   "cell_type": "code",
   "execution_count": 74,
   "id": "3c506fd4-39df-403d-8ca6-c11d36c532da",
   "metadata": {},
   "outputs": [
    {
     "name": "stderr",
     "output_type": "stream",
     "text": [
      "100%|\u001b[32m█████████████████████████████████████████████████████████████████████████████████████████████████████\u001b[0m| 327504/327504 [00:01<00:00, 239566.04it/s]\u001b[0m\n"
     ]
    },
    {
     "data": {
      "text/plain": [
       "6081307"
      ]
     },
     "execution_count": 74,
     "metadata": {},
     "output_type": "execute_result"
    }
   ],
   "source": [
    "# create corpus of words \n",
    "corpus = []\n",
    "for i in trange(data.shape[0], ncols=150, nrows=10, colour='green', smoothing=0.8):\n",
    "    corpus += data['txt_list'][i]\n",
    "len(corpus)"
   ]
  },
  {
   "cell_type": "code",
   "execution_count": 12,
   "id": "aed984eb-9fb2-4c79-b8ea-f14683077c68",
   "metadata": {},
   "outputs": [
    {
     "data": {
      "text/plain": [
       "29557"
      ]
     },
     "execution_count": 12,
     "metadata": {},
     "output_type": "execute_result"
    }
   ],
   "source": [
    "# size of vocabularly \n",
    "len(pd.Series(corpus).unique())"
   ]
  },
  {
   "cell_type": "code",
   "execution_count": 13,
   "id": "e7dbbf14-dd06-40e2-8353-26ded0fff250",
   "metadata": {},
   "outputs": [
    {
     "data": {
      "text/plain": [
       "[('the', 250676),\n",
       " ('in', 233685),\n",
       " ('and', 200810),\n",
       " ('of', 143882),\n",
       " ('to', 143397),\n",
       " ('a', 101629),\n",
       " ('for', 72994),\n",
       " ('that', 67008),\n",
       " ('sales', 54095),\n",
       " ('are', 49720),\n",
       " ('were', 48034),\n",
       " ('district', 41756),\n",
       " ('reported', 40836),\n",
       " ('prices', 38040),\n",
       " ('activity', 37304),\n",
       " ('demand', 36460),\n",
       " ('as', 35544),\n",
       " ('have', 34749),\n",
       " ('is', 33360),\n",
       " ('with', 32733),\n",
       " ('at', 31992),\n",
       " ('some', 31668),\n",
       " ('but', 30837),\n",
       " ('contacts', 30703),\n",
       " ('was', 29680),\n",
       " ('from', 29307),\n",
       " ('on', 29168),\n",
       " ('year', 29149),\n",
       " ('percent', 27510),\n",
       " ('new', 27228)]"
      ]
     },
     "execution_count": 13,
     "metadata": {},
     "output_type": "execute_result"
    }
   ],
   "source": [
    "# Top 20 words \n",
    "Counter(corpus).most_common(30)"
   ]
  },
  {
   "cell_type": "markdown",
   "id": "f22873ab-b836-49c3-8982-3b6b91184502",
   "metadata": {},
   "source": [
    "# By Region"
   ]
  },
  {
   "cell_type": "code",
   "execution_count": 75,
   "id": "5b8b9115-134b-4067-a1ee-3e7d228c3473",
   "metadata": {},
   "outputs": [
    {
     "name": "stderr",
     "output_type": "stream",
     "text": [
      "/var/folders/f6/7fg5p95n44sd8qk792nr68d40000gn/T/ipykernel_1458/2510233678.py:3: SettingWithCopyWarning: \n",
      "A value is trying to be set on a copy of a slice from a DataFrame.\n",
      "Try using .loc[row_indexer,col_indexer] = value instead\n",
      "\n",
      "See the caveats in the documentation: https://pandas.pydata.org/pandas-docs/stable/user_guide/indexing.html#returning-a-view-versus-a-copy\n",
      "  data_sub['txt_list'] = data_sub.sentence.str.split()\n"
     ]
    },
    {
     "data": {
      "text/html": [
       "<div>\n",
       "<style scoped>\n",
       "    .dataframe tbody tr th:only-of-type {\n",
       "        vertical-align: middle;\n",
       "    }\n",
       "\n",
       "    .dataframe tbody tr th {\n",
       "        vertical-align: top;\n",
       "    }\n",
       "\n",
       "    .dataframe thead th {\n",
       "        text-align: right;\n",
       "    }\n",
       "</style>\n",
       "<table border=\"1\" class=\"dataframe\">\n",
       "  <thead>\n",
       "    <tr style=\"text-align: right;\">\n",
       "      <th></th>\n",
       "      <th>time_index</th>\n",
       "      <th>region</th>\n",
       "      <th>sentence</th>\n",
       "      <th>txt_list</th>\n",
       "    </tr>\n",
       "  </thead>\n",
       "  <tbody>\n",
       "    <tr>\n",
       "      <th>155175</th>\n",
       "      <td>2000-01-01</td>\n",
       "      <td>at</td>\n",
       "      <td>reports from contacts throughout the southeast...</td>\n",
       "      <td>[reports, from, contacts, throughout, the, sou...</td>\n",
       "    </tr>\n",
       "    <tr>\n",
       "      <th>155176</th>\n",
       "      <td>2000-01-01</td>\n",
       "      <td>at</td>\n",
       "      <td>holiday sales were strong according to most co...</td>\n",
       "      <td>[holiday, sales, were, strong, according, to, ...</td>\n",
       "    </tr>\n",
       "    <tr>\n",
       "      <th>155177</th>\n",
       "      <td>2000-01-01</td>\n",
       "      <td>at</td>\n",
       "      <td>singlefamily construction is mixed by market a...</td>\n",
       "      <td>[singlefamily, construction, is, mixed, by, ma...</td>\n",
       "    </tr>\n",
       "    <tr>\n",
       "      <th>155178</th>\n",
       "      <td>2000-01-01</td>\n",
       "      <td>at</td>\n",
       "      <td>the outlook for the tourism and hospitality se...</td>\n",
       "      <td>[the, outlook, for, the, tourism, and, hospita...</td>\n",
       "    </tr>\n",
       "    <tr>\n",
       "      <th>155179</th>\n",
       "      <td>2000-01-01</td>\n",
       "      <td>at</td>\n",
       "      <td>bankers report that the century rollover went ...</td>\n",
       "      <td>[bankers, report, t