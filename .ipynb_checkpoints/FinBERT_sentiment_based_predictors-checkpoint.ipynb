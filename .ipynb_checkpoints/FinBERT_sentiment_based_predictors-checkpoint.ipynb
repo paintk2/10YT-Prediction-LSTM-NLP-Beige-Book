{
 "cells": [
  {
   "cell_type": "markdown",
   "id": "692b894a-f317-4097-935a-348fbbde2880",
   "metadata": {},
   "source": [
    "# Import Packages"
   ]
  },
  {
   "cell_type": "code",
   "execution_count": 2,
   "id": "e6293918-963f-4eef-a26d-f4931f907ead",
   "metadata": {},
   "outputs": [
    {
     "name": "stderr",
     "output_type": "stream",
     "text": [
      "[nltk_data] Downloading package punkt_tab to\n",
      "[nltk_data]     /Users/KattPaint/nltk_data...\n",
      "[nltk_data]   Package punkt_tab is already up-to-date!\n",
      "2024-12-07 23:35:30.561352: I tensorflow/core/platform/cpu_feature_guard.cc:182] This TensorFlow binary is optimized to use available CPU instructions in performance-critical operations.\n",
      "To enable the following instructions: AVX2 FMA, in other operations, rebuild TensorFlow with the appropriate compiler flags.\n"
     ]
    }
   ],
   "source": [
    "import numpy as np\n",
    "import pandas as pd\n",
    "from transformers import AutoTokenizer, AutoModelForSequenceClassification\n",
    "\n",
    "from src.finbert import predict\n",
    "from textblob import TextBlob\n",
    "import torch\n",
    "import scipy\n",
    "import nltk\n",
    "nltk.download('punkt_tab')\n",
    "import tensorflow as tf"
   ]
  },
  {
   "cell_type": "markdown",
   "id": "2fbcbcff-9bf5-4f42-93f4-b0f196b7707a",
   "metadata": {},
   "source": [
    "# Import Data"
   ]
  },
  {
   "cell_type": "code",
   "execution_count": 3,
   "id": "3f5af91a-c41b-4c0c-b769-4c01418c1d64",
   "metadata": {},
   "outputs": [
    {
     "data": {
      "text/html": [
       "<div>\n",
       "<style scoped>\n",
       "    .dataframe tbody tr th:only-of-type {\n",
       "        vertical-align: middle;\n",
       "    }\n",
       "\n",
       "    .dataframe tbody tr th {\n",
       "        vertical-align: top;\n",
       "    }\n",
       "\n",
       "    .dataframe thead th {\n",
       "        text-align: right;\n",
       "    }\n",
       "</style>\n",
       "<table border=\"1\" class=\"dataframe\">\n",
       "  <thead>\n",
       "    <tr style=\"text-align: right;\">\n",
       "      <th></th>\n",
       "      <th>time_index</th>\n",
       "      <th>region</th>\n",
       "      <th>sentence</th>\n",
       "    </tr>\n",
       "  </thead>\n",
       "  <tbody>\n",
       "    <tr>\n",
       "      <th>0</th>\n",
       "      <td>1970-05-01</td>\n",
       "      <td>at</td>\n",
       "      <td>The mood of our directors varies from pessimis...</td>\n",
       "    </tr>\n",
       "    <tr>\n",
       "      <th>1</th>\n",
       "      <td>1970-05-01</td>\n",
       "      <td>at</td>\n",
       "      <td>If any consensus exists, it is that business a...</td>\n",
       "    </tr>\n",
       "    <tr>\n",
       "      <th>2</th>\n",
       "      <td>1970-05-01</td>\n",
       "      <td>at</td>\n",
       "      <td>Many major economic indices should drift downw...</td>\n",
       "    </tr>\n",
       "    <tr>\n",
       "      <th>3</th>\n",
       "      <td>1970-05-01</td>\n",
       "      <td>at</td>\n",
       "      <td>In the pessimistic vein, a leading department ...</td>\n",
       "    </tr>\n",
       "    <tr>\n",
       "      <th>4</th>\n",
       "      <td>1970-05-01</td>\n",
       "      <td>at</td>\n",
       "      <td>The store reported that labor costs were up 8 ...</td>\n",
       "    </tr>\n",
       "  </tbody>\n",
       "</table>\n",
       "</div>"
      ],
      "text/plain": [
       "  time_index region                                           sentence\n",
       "0 1970-05-01     at  The mood of our directors varies from pessimis...\n",
       "1 1970-05-01     at  If any consensus exists, it is that business a...\n",
       "2 1970-05-01     at  Many major economic indices should drift downw...\n",
       "3 1970-05-01     at  In the pessimistic vein, a leading department ...\n",
       "4 1970-05-01     at  The store reported that labor costs were up 8 ..."
      ]
     },
     "execution_count": 3,
     "metadata": {},
     "output_type": "execute_result"
    }
   ],
   "source": [
    "data = pd.read_csv('../data/beige_books_1970_2024.csv')\n",
    "data = data.drop(['Unnamed: 0'], axis=1)\n",
    "data.time_index = pd.to_datetime(data.time_index)\n",
    "data.head()"
   ]
  },
  {
   "cell_type": "markdown",
   "id": "c31122fa-f54e-4be1-af1d-349c02b2d6ca",
   "metadata": {},
   "source": [
    "# FinBERT for Sentiment Scoring"
   ]
  },
  {
   "cell_type": "markdown",
   "id": "70d6c6ef-eb20-44f1-a787-cec1a01e8848",
   "metadata": {},
   "source": [
    "- FinBERT model pulled from Hugging Face: https://huggingface.co/yiyanghkust/finbert-tone"
   ]
  },
  {
   "cell_type": "code",
   "execution_count": 4,
   "id": "9419f2c1-e05c-448e-b47e-f4387d1da7ca",
   "metadata": {},
   "outputs": [],
   "source": [
    "# load model from hugging face \n",
    "tokenizer = AutoTokenizer.from_pretrained(\"ProsusAI/finbert\")\n",
    "model = AutoModelForSequenceClassification.from_pretrained(\"ProsusAI/finbert\")"
   ]
  },
  {
   "cell_type": "code",
   "execution_count": 5,
   "id": "a2c0388e-aa14-4b94-a61f-1b9728cc645f",
   "metadata": {},
   "outputs": [
    {
     "name": "stdout",
     "output_type": "stream",
     "text": [
      "The mood of our directors varies from pessimism to optimism.\n",
      "-0.018657394\n"
     ]
    }
   ],
   "source": [
    "# test on single sentence \n",
    "txt = data.sentence[0]\n",
    "inputs = tokenizer(txt, return_tensors=\"pt\")\n",
    "\n",
    "logits = model(**inputs).logits\n",
    "logits = scipy.special.softmax(logits.detach().numpy())\n",
    "sentiment = (logits[:, 0] - logits[:, 1])[0]\n",
    "\n",
    "print(txt)\n",
    "print(sentiment)"
   ]
  },
  {
   "cell_type": "code",
   "execution_count": 6,
   "id": "d20f915f-f000-4950-b33b-fb2cbd6882b9",
   "metadata": {},
   "outputs": [],
   "source": [
    "# import full text \n",
    "f = open('../data/beige_books_full.txt', 'r')\n",
    "txt = f.read()\n",
    "\n",
    "# sentence splitter\n",
    "m = nltk.data.load('tokenizers/punkt/english.pickle')\n",
    "\n",
    "# split into sentences \n",
    "sentence_list = m.tokenize(txt)"
   ]
  },
  {
   "cell_type": "code",
   "execution_count": 7,
   "id": "3a9787a2-170d-43ab-8601-4ddb99b90767",
   "metadata": {},
   "outputs": [],
   "source": [
    "# split into three batches for runtime concerns \n",
    "batch1 = sentence_list[:5000]\n",
    "batch2 = sentence_list[10000:20000]\n",
    "batch3 = sentence_list[20000:30000]\n",
    "batch4 = sentence_list[3000:]\n",
    "\n",
    "# create sentiment list to store \n",
    "sentiments = []"
   ]
  },
  {
   "cell_type": "code",
   "execution_count": 8,
   "id": "7f4e6a3e-513d-4447-b43e-32e21e4e6cad",
   "metadata": {},
   "outputs": [],
   "source": [
    "## Batch 1 \n",
    "\n",
    "# tokenize for model inputs \n",
    "inputs = tokenizer(batch1, return_tensors=\"pt\", padding=True)"
   ]
  },
  {
   "cell_type": "code",
   "execution_count": null,
   "id": "afc84e40-da2e-46e2-9c75-36eaeb24ce8e",
   "metadata": {},
   "outputs": [],
   "source": [
    "# run model on inputs to get logits \n",
    "logits = model(**inputs).logits"
   ]
  },
  {
   "cell_type": "code",
   "execution_count": null,
   "id": "ce30e555-c1c7-4511-952f-30be88461e46",
   "metadata": {},
   "outputs": [],
   "source": [
    "# calculate pos/nue/neg and final sentiment scores \n",
    "pos_neg_scores = scipy.special.softmax(logits.detach().numpy())\n",
    "sentiment_scores = (pos_neg_scores[:, 0] - pos_neg_scores[:, 1])"
   ]
  },
  {
   "cell_type": "markdown",
   "id": "b14c5132-2eb3-4dd9-a479-87edad5ccf91",
   "metadata": {},
   "source": [
    "# Export Final Data Set"
   ]
  },
  {
   "cell_type": "code",
   "execution_count": null,
   "id": "ac85bac2-1788-42d4-863d-69b7d038cc90",
   "metadata": {},
   "outputs": [],
   "source": [
    "scored_data.to_csv('../data/beige_books_1970_2024_with_sentiment.csv', encoding='utf-8', index=True)"
   ]
  }
 ],
 "metadata": {
  "kernelspec": {
   "display_name": "Python 3 (ipykernel)",
   "language": "python",
   "name": "python3"
  },
  "language_info": {
   "codemirror_mode": {
    "name": "ipython",
    "version": 3
   },
   "file_extension": ".py",
   "mimetype": "text/x-python",
   "name": "python",
   "nbconvert_exporter": "python",
   "pygments_lexer": "ipython3",
   "version": "3.11.1"
  }
 },
 "nbformat": 4,
 "nbformat_minor": 5
}
