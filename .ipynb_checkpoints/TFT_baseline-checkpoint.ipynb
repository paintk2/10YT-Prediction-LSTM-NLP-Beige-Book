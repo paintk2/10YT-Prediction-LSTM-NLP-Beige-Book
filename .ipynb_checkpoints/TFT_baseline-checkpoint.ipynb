{
 "cells": [
  {
   "cell_type": "code",
   "execution_count": 1,
   "id": "dccb8dc3-3652-4962-bb47-d544ecefb766",
   "metadata": {},
   "outputs": [
    {
     "name": "stderr",
     "output_type": "stream",
     "text": [
      "/var/folders/f6/7fg5p95n44sd8qk792nr68d40000gn/T/ipykernel_73812/816589595.py:5: TqdmExperimentalWarning: Using `tqdm.autonotebook.tqdm` in notebook mode. Use `tqdm.tqdm` instead to force console mode (e.g. in jupyter console)\n",
      "  from tqdm.autonotebook import tqdm\n",
      "Seed set to 42\n"
     ]
    }
   ],
   "source": [
    "# System\n",
    "import sys, os\n",
    "import warnings\n",
    "import shutil\n",
    "from tqdm.autonotebook import tqdm\n",
    "sys.path.append('//Users//KattPaint//Desktop//DATASCI266//Modern-Time-Series-Forecasting-with-Python')\n",
    "from src.utils.general import LogTime\n",
    "import joblib\n",
    "from pathlib import Path\n",
    "\n",
    "# Data Manipulation\n",
    "import pandas as pd\n",
    "import numpy as np\n",
    "\n",
    "# Visualization\n",
    "import matplotlib.pyplot as plt\n",
    "import plotly.express as px\n",
    "import plotly.graph_objects as go\n",
    "from itertools import cycle\n",
    "#import seaborn as sns\n",
    "import plotly.io as pio\n",
    "#from src.utils import plotting_utils\n",
    "from IPython.display import display, HTML\n",
    "\n",
    "# Modeling\n",
    "import lightning.pytorch as pl\n",
    "pl.seed_everything(42)\n",
    "import torch\n",
    "from lightning.pytorch.callbacks.early_stopping import EarlyStopping\n",
    "from lightning.pytorch.callbacks import LearningRateMonitor\n",
    "from lightning.pytorch.loggers import TensorBoardLogger\n",
    "from pytorch_forecasting import TimeSeriesDataSet, Baseline, TemporalFusionTransformer\n",
    "from pytorch_forecasting.metrics.quantile import QuantileLoss\n",
    "from pytorch_forecasting.data import TorchNormalizer, GroupNormalizer\n",
    "from pytorch_forecasting.metrics import RMSE, MAE\n",
    "\n",
    "# Global Settings\n",
    "pd.set_option('display.float_format', lambda x: '%.2f' % x)\n",
    "np.random.seed(42)\n",
    "tqdm.pandas()"
   ]
  },
  {
   "cell_type": "markdown",
   "id": "af1573d8-b3c5-4597-aee4-ba107ab752d8",
   "metadata": {
    "id": "af1573d8-b3c5-4597-aee4-ba107ab752d8"
   },
   "source": [
    "# Defined Functions"
   ]
  },
  {
   "cell_type": "code",
   "execution_count": 2,
   "id": "60bda8bc-7979-453d-94e0-3f24b585ab91",
   "metadata": {},
   "outputs": [],
   "source": [
    "from collections import namedtuple\n",
    "\n",
    "FeatureConfig = namedtuple(\n",
    "    \"FeatureConfig\",\n",
    "    [\n",
    "        \"target\",\n",
    "        \"index_cols\",\n",
    "        \"static_categoricals\",\n",
    "        \"static_reals\",\n",
    "        \"time_varying_known_categoricals\",\n",
    "        \"time_varying_known_reals\",\n",
    "        \"time_varying_unknown_reals\",\n",
    "        \"group_ids\"\n",
    "    ],\n",
    ")\n",
    "\n",
    "# MAE \n",
    "def mae(actuals, preds):\n",
    "    return (actuals - preds).abs().mean().item()"
   ]
  },
  {
   "cell_type": "markdown",
   "id": "1ec0050a-0226-4111-984e-866b844134db",
   "metadata": {
    "id": "1ec0050a-0226-4111-984e-866b844134db"
   },
   "source": [
    "# Import Data"
   ]
  },
  {
   "cell_type": "code",
   "execution_count": 3,
   "id": "2cb087d7-342c-46fa-a4f2-f418373af05e",
   "metadata": {},
   "outputs": [
    {
     "data": {
      "text/html": [
       "<div>\n",
       "<style scoped>\n",
       "    .dataframe tbody tr th:only-of-type {\n",
       "        vertical-align: middle;\n",
       "    }\n",
       "\n",
       "    .dataframe tbody tr th {\n",
       "        vertical-align: top;\n",
       "    }\n",
       "\n",
       "    .dataframe thead th {\n",
       "        text-align: right;\n",
       "    }\n",
       "</style>\n",
       "<table border=\"1\" class=\"dataframe\">\n",
       "  <thead>\n",
       "    <tr style=\"text-align: right;\">\n",
       "      <th></th>\n",
       "      <th>time_index</th>\n",
       "      <th>t10yr</th>\n",
       "      <th>cpi</th>\n",
       "      <th>unemp</th>\n",
       "      <th>ppi</th>\n",
       "      <th>saving</th>\n",
       "      <th>month</th>\n",
       "      <th>group</th>\n",
       "      <th>time_idx</th>\n",
       "    </tr>\n",
       "    <tr>\n",
       "      <th>time_index</th>\n",
       "      <th></th>\n",
       "      <th></th>\n",
       "      <th></th>\n",
       "      <th></th>\n",
       "      <th></th>\n",
       "      <th></th>\n",
       "      <th></th>\n",
       "      <th></th>\n",
       "      <th></th>\n",
       "    </tr>\n",
       "  </thead>\n",
       "  <tbody>\n",
       "    <tr>\n",
       "      <th>1970-01-01</th>\n",
       "      <td>1970-01-01</td>\n",
       "      <td>7.79</td>\n",
       "      <td>0.27</td>\n",
       "      <td>3.90</td>\n",
       "      <td>36.50</td>\n",
       "      <td>11.80</td>\n",
       "      <td>1</td>\n",
       "      <td>0</td>\n",
       "      <td>0</td>\n",
       "    </tr>\n",
       "    <tr>\n",
       "      <th>1970-02-01</th>\n",
       "      <td>1970-02-01</td>\n",
       "      <td>7.24</td>\n",
       "      <td>0.53</td>\n",
       "      <td>4.20</td>\n",
       "      <td>36.70</td>\n",
       "      <td>11.70</td>\n",
       "      <td>2</td>\n",
       "      <td>0</td>\n",
       "      <td>1</td>\n",
       "    </tr>\n",
       "    <tr>\n",
       "      <th>1970-03-01</th>\n",
       "      <td>1970-03-01</td>\n",
       "      <td>7.07</td>\n",
       "      <td>0.53</td>\n",
       "      <td>4.40</td>\n",
       "      <td>36.70</td>\n",
       "      <td>12.40</td>\n",
       "      <td>3</td>\n",
       "      <td>0</td>\n",
       "      <td>2</td>\n",
       "    </tr>\n",
       "    <tr>\n",
       "      <th>1970-04-01</th>\n",
       "      <td>1970-04-01</td>\n",
       "      <td>7.39</td>\n",
       "      <td>0.79</td>\n",
       "      <td>4.60</td>\n",
       "      <td>36.80</td>\n",
       "      <td>13.30</td>\n",
       "      <td>4</td>\n",
       "      <td>0</td>\n",
       "      <td>3</td>\n",
       "    </tr>\n",
       "    <tr>\n",
       "      <th>1970-05-01</th>\n",
       "      <td>1970-05-01</td>\n",
       "      <td>7.91</td>\n",
       "      <td>0.26</td>\n",
       "      <td>4.80</td>\n",
       "      <td>36.80</td>\n",
       "      <td>12.40</td>\n",
       "      <td>5</td>\n",
       "      <td>0</td>\n",
       "      <td>4</td>\n",
       "    </tr>\n",
       "  </tbody>\n",
       "</table>\n",
       "</div>"
      ],
      "text/plain": [
       "           time_index  t10yr  cpi  unemp   ppi  saving  month  group  time_idx\n",
       "time_index                                                                    \n",
       "1970-01-01 1970-01-01   7.79 0.27   3.90 36.50   11.80      1      0         0\n",
       "1970-02-01 1970-02-01   7.24 0.53   4.20 36.70   11.70      2      0         1\n",
       "1970-03-01 1970-03-01   7.07 0.53   4.40 36.70   12.40      3      0         2\n",
       "1970-04-01 1970-04-01   7.39 0.79   4.60 36.80   13.30      4      0         3\n",
       "1970-05-01 1970-05-01   7.91 0.26   4.80 36.80   12.40      5      0         4"
      ]
     },
     "execution_count": 3,
     "metadata": {},
     "output_type": "execute_result"
    }
   ],
   "source": [
    "data = pd.read_csv('../data/monthly_target_economic_factors.csv')\n",
    "data = data.rename({'Unnamed: 0':'time_index'}, axis=1)\n",
    "data.time_index = pd.to_datetime(data.time_index)\n",
    "data['group'] = 0\n",
    "data.index = data.time_index\n",
    "\n",
    "# add numeric time index \n",
    "data.loc[:, 'time_idx'] = range(0, len(data))\n",
    "\n",
    "data.head()"
   ]
  },
  {
   "cell_type": "markdown",
   "id": "b23f9499-6f42-4b51-98da-612b800f298f",
   "metadata": {
    "id": "b23f9499-6f42-4b51-98da-612b800f298f"
   },
   "source": [
    "# Config"
   ]
  },
  {
   "cell_type": "code",
   "execution_count": 20,
   "id": "55bec73f-07b3-4079-830f-55edbe50f939",
   "metadata": {
    "id": "55bec73f-07b3-4079-830f-55edbe50f939"
   },
   "outputs": [],
   "source": [
    "# Define variables\n",
    "max_prediction_length = 12\n",
    "max_encoder_length = max_prediction_length * 2  \n",
    "batch_size = 64\n",
    "\n",
    "feat_config = FeatureConfig(\n",
    "    target=\"t10yr\",\n",
    "    index_cols=[\"time_index\"],\n",
    "    static_categoricals=[],  # Categoricals which does not change with time\n",
    "    static_reals=[],  # Reals which does not change with time\n",
    "    time_varying_known_categoricals=[  # Categoricals which change with time\n",
    "        \"month\",\n",
    "    ],\n",
    "    time_varying_known_reals=[], # Reals which change with time\n",
    "    time_varying_unknown_reals=[  # Reals which change with time, but we don't have the future. Like the target\n",
    "        \"t10yr\",\n",
    "        \"cpi\",\n",
    "        \"unemp\",\n",
    "        \"ppi\",\n",
    "        \"saving\",\n",
    "    ],\n",
    "    group_ids=['group'], # Identifies categories\n",
    ")"
   ]
  },
  {
   "cell_type": "code",
   "execution_count": null,
   "id": "9769d755-5bc7-4a21-b92b-142fb0d4a087",
   "metadata": {},
   "outputs": [],
   "source": [
    "data[\n",
    "    feat_config.static_categoricals + feat_config.time_varying_known_categoricals\n",
    "] = data[\n",
    "    feat_config.static_categoricals + feat_config.time_varying_known_categoricals\n",
    "].astype(\n",
    "    \"object\"\n",
    ")\n",
    "\n",
    "data.dtypes"
   ]
  },
  {
   "cell_type": "markdown",
   "id": "19759cc7-9271-4594-ab3e-15d165794362",
   "metadata": {
    "id": "19759cc7-9271-4594-ab3e-15d165794362"
   },
   "source": [
    "# Train / Validation / Test Split"
   ]
  },
  {
   "cell_type": "code",
   "execution_count": 34,
   "id": "1099e259-de97-4d91-b8f2-b5e64daac569",
   "metadata": {
    "colab": {
     "base_uri": "https://localhost:8080/"
    },
    "executionInfo": {
     "elapsed": 170,
     "status": "ok",
     "timestamp": 1732550678142,
     "user": {
      "displayName": "Kathryn Lee Painter",
      "userId": "09534783426782667721"
     },
     "user_tz": 480
    },
    "id": "1099e259-de97-4d91-b8f2-b5e64daac569",
    "outputId": "e9249410-8ea6-4e6f-c90f-10cc8b533582"
   },
   "outputs": [
    {
     "name": "stdout",
     "output_type": "stream",
     "text": [
      "Split Timestamps:\n",
      "Train Min: 1970-01-01 00:00:00 | Train Max: 2023-03-01 00:00:00\n",
      "Test Min: 2023-04-01 00:00:00 | Test Max: 2024-03-01 00:00:00\n"
     ]
    }
   ],
   "source": [
    "print(\"Split Timestamps:\")\n",
    "print(f\"Train Min: {data[:-max_prediction_length].index.min()} | Train Max: {data[:-max_prediction_length].index.max()}\")\n",
    "print(f\"Test Min: {data[-max_prediction_length:].index.min()} | Test Max: {data[-max_prediction_length:].index.max()}\")"
   ]
  },
  {
   "cell_type": "code",
   "execution_count": 112,
   "id": "3e0f5c54-330b-4417-ad78-9bbb882ed818",
   "metadata": {},
   "outputs": [
    {
     "name": "stdout",
     "output_type": "stream",
     "text": [
      "tensor([[6.1300, 6.1100, 6.1100,  ..., 6.9600, 7.2100, 7.5100],\n",
      "        [6.4800, 6.2800, 6.3600,  ..., 7.8100, 8.0400, 8.0400],\n",
      "        [3.9400, 4.0500, 4.0300,  ..., 4.5000, 4.2800, 4.1300],\n",
      "        ...,\n",
      "        [2.8600, 2.8400, 2.8700,  ..., 1.8100, 1.8600, 1.7600],\n",
      "        [3.5800, 3.4100, 3.4600,  ..., 1.6500, 1.7200, 1.9100],\n",
      "        [6.3000, 6.5800, 6.4200,  ..., 4.8100, 4.5300, 4.8300]])\n",
      "\n",
      "\n",
      "tensor([[ 7.5800,  7.5400,  7.8100,  8.0400,  8.0400,  7.9000,  7.6800,  7.4300,\n",
      "          7.5000,  7.3900,  7.7300,  8.2300],\n",
      "        [ 7.9000,  7.6800,  7.4300,  7.5000,  7.3900,  7.7300,  8.2300,  8.0600,\n",
      "          7.8600,  8.0600,  8.4000,  8.4300],\n",
      "        [ 4.1000,  4.1900,  4.2300,  4.2200,  4.1700,  4.5000,  4.3400,  4.1400,\n",
      "          4.0000,  4.1800,  4.2600,  4.2000],\n",
      "        [ 6.8400,  6.5900,  6.4200,  6.5900,  6.8700,  6.7700,  6.6000,  6.2600,\n",
      "          5.9800,  5.9700,  6.0400,  5.9600],\n",
      "        [ 5.5700,  5.6500,  5.6400,  5.6500,  5.5000,  5.4600,  5.3400,  4.8100,\n",
      "          4.5300,  4.8300,  4.6500,  4.7200],\n",
      "        [ 7.8400,  8.2100,  8.4700,  8.5900,  8.7900,  8.7600,  8.4800,  8.4700,\n",
      "          8.7500,  8.8900,  8.7200,  8.3900],\n",
      "        [ 1.5000,  1.5600,  1.6300,  1.7600,  2.1400,  2.4900,  2.4300,  2.4200,\n",
      "          2.4800,  2.3000,  2.3000,  2.1900],\n",
      "        [ 8.0500,  8.0000,  7.7400,  7.7900,  7.7300,  7.5600,  7.9000,  7.8600,\n",
      "          7.8300,  7.7700,  7.5900,  7.4100],\n",
      "        [12.3400, 10.9100, 10.5500, 10.5400, 10.4600, 10.7200, 10.5100, 10.4000,\n",
      "         10.3800, 10.8500, 11.3800, 11.8500],\n",
      "        [ 7.3000,  7.1700,  7.4500,  7.4300,  7.2500,  7.1100,  7.0800,  7.2500,\n",
      "          7.2500,  8.0200,  8.6100,  8.4000],\n",
      "        [ 6.2600,  5.9900,  6.4400,  6.1000,  6.0500,  5.8300,  5.8000,  5.7400,\n",
      "          5.7200,  5.2400,  5.1600,  5.1000],\n",
      "        [ 7.9600,  8.0300,  8.0400,  8.1500,  8.3500,  8.4600,  8.6400,  8.4100,\n",
      "          8.4200,  8.6400,  8.8100,  9.0100],\n",
      "        [ 2.3000,  2.1900,  2.3200,  2.2100,  2.2000,  2.3600,  2.3500,  2.4000,\n",
      "          2.5800,  2.8600,  2.8400,  2.8700],\n",
      "        [ 2.3600,  2.3200,  2.1700,  2.1700,  2.0700,  2.2600,  2.2400,  2.0900,\n",
      "          1.7800,  1.8900,  1.8100,  1.8100],\n",
      "        [ 6.4900,  6.2200,  6.3000,  6.2100,  6.0300,  5.8800,  5.8100,  5.5400,\n",
      "          5.5700,  5.6500,  5.6400,  5.6500],\n",
      "        [ 5.3300,  5.7200,  5.7700,  5.7500,  5.9700,  6.4800,  6.9700,  7.1800,\n",
      "          7.1000,  7.3000,  7.2400,  7.4600],\n",
      "        [ 5.0000,  4.6700,  4.5200,  4.5300,  4.1500,  4.1000,  3.7400,  3.7400,\n",
      "          3.5100,  3.6800,  3.8800,  4.1000],\n",
      "        [ 5.9800,  5.9700,  6.0400,  5.9600,  5.8100,  5.6800,  5.3600,  5.3300,\n",
      "          5.7200,  5.7700,  5.7500,  5.9700],\n",
      "        [13.8600, 13.8700, 13.6200, 14.3000, 13.9500, 13.0600, 12.3400, 10.9100,\n",
      "         10.5500, 10.5400, 10.4600, 10.7200],\n",
      "        [ 5.9500,  6.0800,  6.0700,  6.1900,  6.1300,  6.1100,  6.1100,  6.2100,\n",
      "          6.5500,  6.4800,  6.2800,  6.3600],\n",
      "        [10.6500, 10.3900, 10.8000, 12.4100, 12.7500, 11.4700, 10.1800,  9.7800,\n",
      "         10.2500, 11.1000, 11.5100, 11.7500],\n",
      "        [13.1200, 13.6800, 14.1000, 13.4700, 14.2800, 14.9400, 15.3200, 15.1500,\n",
      "         13.3900, 13.7200, 14.5900, 14.4300],\n",
      "        [ 5.1100,  5.1100,  5.0900,  4.8800,  4.7200,  4.7300,  4.6000,  4.5600,\n",
      "          4.7600,  4.7200,  4.5600,  4.6900],\n",
      "        [ 8.0100,  7.8700,  7.8400,  8.2100,  8.4700,  8.5900,  8.7900,  8.7600,\n",
      "          8.4800,  8.4700,  8.7500,  8.8900],\n",
      "        [ 1.2800,  1.3700,  1.5800,  1.5600,  1.4700,  1.7600,  1.9300,  2.1300,\n",
      "          2.7500,  2.9000,  3.1400,  2.9000],\n",
      "        [ 8.9200,  9.0600,  9.2600,  8.9800,  8.8000,  8.9600,  9.1100,  9.0900,\n",
      "          9.1700,  9.3600,  9.1800,  8.8600],\n",
      "        [ 1.6100,  1.6400,  1.6200,  1.5200,  1.3200,  1.2800,  1.3700,  1.5800,\n",
      "          1.5600,  1.4700,  1.7600,  1.9300],\n",
      "        [ 5.3400,  4.8100,  4.5300,  4.8300,  4.6500,  4.7200,  5.0000,  5.2300,\n",
      "          5.1800,  5.5400,  5.9000,  5.7900],\n",
      "        [ 2.5600,  2.6000,  2.5400,  2.4200,  2.5300,  2.3000,  2.3300,  2.2100,\n",
      "          1.8800,  1.9800,  2.0400,  1.9400],\n",
      "        [ 8.1500,  8.3500,  8.4600,  8.6400,  8.4100,  8.4200,  8.6400,  8.8100,\n",
      "          9.0100,  9.1000,  9.1000,  9.1200],\n",
      "        [ 6.5900,  6.4200,  6.5900,  6.8700,  6.7700,  6.6000,  6.2600,  5.9800,\n",
      "          5.9700,  6.0400,  5.9600,  5.8100],\n",
      "        [ 4.7200,  4.5600,  4.6900,  4.7500,  5.1000,  5.0000,  4.6700,  4.5200,\n",
      "          4.5300,  4.1500,  4.1000,  3.7400],\n",
      "        [10.8500, 11.3800, 11.8500, 11.6500, 11.5400, 11.6900, 11.8300, 11.6700,\n",
      "         11.8400, 12.3200, 12.6300, 13.4100],\n",
      "        [ 2.6000,  2.5400,  2.4200,  2.5300,  2.3000,  2.3300,  2.2100,  1.8800,\n",
      "          1.9800,  2.0400,  1.9400,  2.2000],\n",
      "        [ 2.5300,  2.4000,  2.0700,  2.0600,  1.6300,  1.7000,  1.7100,  1.8100,\n",
      "          1.8600,  1.7600,  1.5000,  0.8700],\n",
      "        [ 6.7400,  6.9100,  6.8700,  6.6400,  6.8300,  6.5300,  6.2000,  6.3000,\n",
      "          6.5800,  6.4200,  6.6900,  6.8900],\n",
      "        [ 3.4000,  3.5900,  3.7300,  3.6900,  3.7300,  3.8500,  3.4200,  3.2000,\n",
      "          3.0100,  2.7000,  2.6500,  2.5400],\n",
      "        [10.2500, 11.1000, 11.5100, 11.7500, 12.6800, 12.8400, 12.5700, 13.1900,\n",
      "         13.1200, 13.6800, 14.1000, 13.4700],\n",
      "        [ 0.6500,  0.6800,  0.7900,  0.8700,  0.9300,  1.0800,  1.2600,  1.6100,\n",
      "          1.6400,  1.6200,  1.5200,  1.3200],\n",
      "        [ 3.5600,  3.5900,  3.4000,  3.3900,  3.4000,  3.5900,  3.7300,  3.6900,\n",
      "          3.7300,  3.8500,  3.4200,  3.2000],\n",
      "        [13.6800, 14.1000, 13.4700, 14.2800, 14.9400, 15.3200, 15.1500, 13.3900,\n",
      "         13.7200, 14.5900, 14.4300, 13.8600],\n",
      "        [ 6.2000,  6.0400,  5.9300,  5.7100,  5.6500,  5.8100,  6.2700,  6.5100,\n",
      "          6.7400,  6.9100,  6.8700,  6.6400],\n",
      "        [ 1.7200,  1.9100,  1.9800,  1.9600,  1.7600,  1.9300,  2.3000,  2.5800,\n",
      "          2.7400,  2.8100,  2.6200,  2.7200],\n",
      "        [12.6300, 13.4100, 13.5600, 13.3600, 12.7200, 12.5200, 12.1600, 11.5700,\n",
      "         11.5000, 11.3800, 11.5100, 11.8600],\n",
      "        [ 1.9400,  2.2000,  2.3600,  2.3200,  2.1700,  2.1700,  2.0700,  2.2600,\n",
      "          2.2400,  2.0900,  1.7800,  1.8900],\n",
      "        [ 8.0600,  8.4000,  8.4300,  8.1400,  8.0500,  8.0000,  7.7400,  7.7900,\n",
      "          7.7300,  7.5600,  7.9000,  7.8600],\n",
      "        [ 4.2800,  4.1300,  4.1000,  4.1900,  4.2300,  4.2200,  4.1700,  4.5000,\n",
      "          4.3400,  4.1400,  4.0000,  4.1800],\n",
      "        [ 4.0300,  4.0500,  3.9000,  3.8100,  3.9600,  3.5700,  3.3300,  3.9800,\n",
      "          4.4500,  4.2700,  4.2900,  4.3000],\n",
      "        [ 7.3300,  7.4000,  7.3400,  7.5200,  7.5800,  7.6900,  7.9600,  8.0300,\n",
      "          8.0400,  8.1500,  8.3500,  8.4600],\n",
      "        [ 1.9600,  1.7600,  1.9300,  2.3000,  2.5800,  2.7400,  2.8100,  2.6200,\n",
      "          2.7200,  2.9000,  2.8600,  2.7100],\n",
      "        [13.3600, 12.7200, 12.5200, 12.1600, 11.5700, 11.5000, 11.3800, 11.5100,\n",
      "         11.8600, 11.4300, 10.8500, 10.1600],\n",
      "        [ 6.1900,  6.1300,  6.1100,  6.1100,  6.2100,  6.5500,  6.4800,  6.2800,\n",
      "          6.3600,  6.4600,  6.6400,  6.7100],\n",
      "        [10.3700, 10.2400,  9.7800,  9.2600,  9.1900,  8.7000,  7.7800,  7.3000,\n",
      "          7.7100,  7.8000,  7.3000,  7.1700],\n",
      "        [ 7.8600,  8.0600,  8.4000,  8.4300,  8.1400,  8.0500,  8.0000,  7.7400,\n",
      "          7.7900,  7.7300,  7.5600,  7.9000],\n",
      "        [ 2.2100,  2.2000,  2.3600,  2.3500,  2.4000,  2.5800,  2.8600,  2.8400,\n",
      "          2.8700,  2.9800,  2.9100,  2.8900],\n",
      "        [ 4.3500,  4.7200,  4.7300,  4.5000,  4.2800,  4.1300,  4.1000,  4.1900,\n",
      "          4.2300,  4.2200,  4.1700,  4.5000],\n",
      "        [ 8.6100,  8.4000,  8.4500,  8.7600,  9.4200,  9.5200,  8.8600,  8.9900,\n",
      "          8.6700,  8.2100,  8.3700,  8.7200],\n",
      "        [ 3.8300,  4.3500,  4.7200,  4.7300,  4.5000,  4.2800,  4.1300,  4.1000,\n",
      "          4.1900,  4.2300,  4.2200,  4.1700],\n",
      "        [ 2.8700,  2.8200,  2.9300,  3.2900,  3.7200,  3.5600,  3.5900,  3.4000,\n",
      "          3.3900,  3.4000,  3.5900,  3.7300],\n",
      "        [ 5.9200,  6.1100,  6.0300,  6.2800,  6.6600,  6.5200,  6.2600,  5.9900,\n",
      "          6.4400,  6.1000,  6.0500,  5.8300],\n",
      "        [ 6.3000,  6.5800,  6.4200,  6.6900,  6.8900,  6.7100,  6.4900,  6.2200,\n",
      "          6.3000,  6.2100,  6.0300,  5.8800],\n",
      "        [ 1.5000,  0.8700,  0.6600,  0.6700,  0.7300,  0.6200,  0.6500,  0.6800,\n",
      "          0.7900,  0.8700,  0.9300,  1.0800],\n",
      "        [ 1.9800,  1.9600,  1.7600,  1.9300,  2.3000,  2.5800,  2.7400,  2.8100,\n",
      "          2.6200,  2.7200,  2.9000,  2.8600],\n",
      "        [ 4.6500,  4.7200,  5.0000,  5.2300,  5.1800,  5.5400,  5.9000,  5.7900,\n",
      "          5.9400,  5.9200,  6.1100,  6.0300]])\n"
     ]
    }
   ],
   "source": [
    "# Defining the training dataset\n",
    "training = TimeSeriesDataSet(\n",
    "    data[:-max_prediction_length],\n",
    "    time_idx=\"time_idx\",\n",
    "    target=feat_config.target,\n",
    "    group_ids=feat_config.group_ids,\n",
    "    max_encoder_length=max_encoder_length,\n",
    "    max_prediction_length=max_prediction_length,\n",
    "    time_varying_unknown_reals=feat_config.time_varying_unknown_reals,\n",
    "    time_varying_known_categoricals=feat_config.time_varying_known_categoricals,\n",
    "    target_normalizer=GroupNormalizer(\n",
    "        groups=[\"group\"], transformation=\"log\"\n",
    "    ),  # we normalize by group\n",
    "    add_relative_time_idx=True,\n",
    "    add_target_scales=True,\n",
    "    add_encoder_length=True,\n",
    ")\n",
    "\n",
    "# validation\n",
    "validation = TimeSeriesDataSet.from_dataset(training, data, predict=True, stop_randomization=True)\n",
    "\n",
    "# define data loaders\n",
    "train_dataloader = training.to_dataloader(train=True, batch_size=batch_size, num_workers=2)\n",
    "val_dataloader = validation.to_dataloader(train=False, batch_size=batch_size * 10, num_workers=2)\n",
    "\n",
    "#load the first batch\n",
    "x, y = next(iter(train_dataloader))\n",
    "print(x['encoder_target']) # training values\n",
    "#print(x['groups']) # group\n",
    "print('\\n')\n",
    "print(x['decoder_target']) # testing values"
   ]
  },
  {
   "cell_type": "markdown",
   "id": "e1d6f441-6184-4ebe-9c97-5a5ac0fdca08",
   "metadata": {
    "id": "e1d6f441-6184-4ebe-9c97-5a5ac0fdca08"
   },
   "source": [
    "# Baseline using Torch"
   ]
  },
  {
   "cell_type": "code",
   "execution_count": 29,
   "id": "b096da87-1e72-4685-98b4-5c7c0103f6ca",
   "metadata": {},
   "outputs": [
    {
     "name": "stderr",
     "output_type": "stream",
     "text": [
      "Seed set to 123\n"
     ]
    },
    {
     "data": {
      "text/plain": [
       "123"
      ]
     },
     "execution_count": 29,
     "metadata": {},
     "output_type": "execute_result"
    }
   ],
   "source": [
    "pl.seed_everything(123)"
   ]
  },
  {
   "cell_type": "code",
   "execution_count": 50,
   "id": "0ece7009-365d-4847-9d75-ae205c942950",
   "metadata": {
    "colab": {
     "base_uri": "https://localhost:8080/"
    },
    "executionInfo": {
     "elapsed": 173,
     "status": "ok",
     "timestamp": 1732550706631,
     "user": {
      "displayName": "Kathryn Lee Painter",
      "userId": "09534783426782667721"
     },
     "user_tz": 480
    },
    "id": "0ece7009-365d-4847-9d75-ae205c942950",
    "outputId": "4dee1132-5ef0-4bb0-d571-9c5399c8ec39"
   },
   "outputs": [
    {
     "name": "stderr",
     "output_type": "stream",
     "text": [
      "/var/folders/f6/7fg5p95n44sd8qk792nr68d40000gn/T/ipykernel_73812/3581400761.py:3: UserWarning: In pytorch-forecasting models, on versions 1.1.X, the default optimizer defaults to 'adam', if pytorch_optimizer is not installed, otherwise it defaults to 'ranger' from pytorch_optimizer. From version 1.2.0, the default optimizer will be 'adam' regardless of whether pytorch_optimizer is installed, in order to minimize the number of dependencies in default parameter settings. Users who wish to ensure their code continues using 'ranger' as optimizer should ensure that pytorch_optimizer is installed, and set the optimizer parameter explicitly to 'ranger'.\n",
      "  baseline_model = Baseline()\n",
      "GPU available: False, used: False\n",
      "TPU available: False, using: 0 TPU cores\n",
      "HPU available: False, using: 0 HPUs\n"
     ]
    },
    {
     "data": {
      "text/plain": [
       "0.4741666316986084"
      ]
     },
     "execution_count": 50,
     "metadata": {},
     "output_type": "execute_result"
    }
   ],
   "source": [
    "# baseline prediction on validation data\n",
    "actuals = torch.cat([y for x, (y, weight) in iter(val_dataloader)])\n",
    "baseline_model = Baseline()\n",
    "baseline_predictions = baseline_model.predict(val_dataloader, return_y=True)\n",
    "\n",
    "# MAE \n",
    "MAE()(baseline_predictions.output, baseline_predictions.y).item()"
   ]
  },
  {
   "cell_type": "markdown",
   "id": "8193facc-657b-4991-ba96-d9742c4f27eb",
   "metadata": {
    "id": "8193facc-657b-4991-ba96-d9742c4f27eb"
   },
   "source": [
    "# Temporal Fusion Transformer (TFT)"
   ]
  },
  {
   "cell_type": "code",
   "execution_count": 113,
   "id": "24e91468-1e1b-4241-89b7-ebc1d8c77deb",
   "metadata": {
    "colab": {
     "base_uri": "https://localhost:8080/",
     "height": 1000,
     "referenced_widgets": [
      "6b987b24c60a4780a49c5ca6a898a979",
      "02ec0859831f4350b47d179b1050f9b1",
      "ff5d1740d41c4a85948275d6c7afc91b",
      "455b60ff2ca540808984a5240d4618cf",
      "c60746e5057c400fa9ff0739a9b8b99e",
      "cc81d3530fc647bbad2b0173b2909319",
      "c56e193f56e344a08866e8fcfbf912e6",
      "bd2d6a5c099241bfb6840a3e06ef25c7",
      "f580e91b5d7643b9ba5a6e8a301333eb",
      "5c21972816704d50b2624262cb59b08a",
      "861ca3e93f004f1f939231948427d53f"
     ]
    },
    "executionInfo": {
     "elapsed": 740,
     "status": "error",
     "timestamp": 1732551330981,
     "user": {
      "displayName": "Kathryn Lee Painter",
      "userId": "09534783426782667721"
     },
     "user_tz": 480
    },
    "id": "24e91468-1e1b-4241-89b7-ebc1d8c77deb",
    "outputId": "110c97cb-7ee1-46ec-8843-7423150c7182"
   },
   "outputs": [
    {
     "name": "stderr",
     "output_type": "stream",
     "text": [
      "GPU available: False, used: False\n",
      "TPU available: False, using: 0 TPU cores\n",
      "HPU available: False, using: 0 HPUs\n",
      "/Library/Frameworks/Python.framework/Versions/3.11/lib/python3.11/site-packages/lightning/pytorch/utilities/parsing.py:208: Attribute 'loss' is an instance of `nn.Module` and is already saved during checkpointing. It is recommended to ignore them using `self.save_hyperparameters(ignore=['loss'])`.\n",
      "/Library/Frameworks/Python.framework/Versions/3.11/lib/python3.11/site-packages/lightning/pytorch/utilities/parsing.py:208: Attribute 'logging_metrics' is an instance of `nn.Module` and is already saved during checkpointing. It is recommended to ignore them using `self.save_hyperparameters(ignore=['logging_metrics'])`.\n",
      "/Library/Frameworks/Python.framework/Versions/3.11/lib/python3.11/site-packages/pytorch_forecasting/models/temporal_fusion_transformer/__init__.py:171: UserWarning: In pytorch-forecasting models, on versions 1.1.X, the default optimizer defaults to 'adam', if pytorch_optimizer is not installed, otherwise it defaults to 'ranger' from pytorch_optimizer. From version 1.2.0, the default optimizer will be 'adam' regardless of whether pytorch_optimizer is installed, in order to minimize the number of dependencies in default parameter settings. Users who wish to ensure their code continues using 'ranger' as optimizer should ensure that pytorch_optimizer is installed, and set the optimizer parameter explicitly to 'ranger'.\n",
      "  super().__init__(loss=loss, logging_metrics=logging_metrics, **kwargs)\n"
     ]
    }
   ],
   "source": [
    "early_stop_callback = EarlyStopping(monitor=\"val_loss\", min_delta=1e-4, patience=5, verbose=True, mode=\"min\")\n",
    "lr_logger = LearningRateMonitor()\n",
    "logger = TensorBoardLogger(\"lightning_logs\")\n",
    "\n",
    "trainer = pl.Trainer(\n",
    "    max_epochs=45,\n",
    "    accelerator='cpu',\n",
    "    devices=1,\n",
    "    enable_model_summary=True,\n",
    "    gradient_clip_val=0.1,\n",
    "    callbacks=[lr_logger, early_stop_callback],\n",
    "    logger=logger)\n",
    "\n",
    "tft = TemporalFusionTransformer.from_dataset(\n",
    "    training,\n",
    "    learning_rate=0.0017,\n",
    "    hidden_size=64,\n",
    "    attention_head_size=2,\n",
    "    dropout=0.1,\n",
    "    hidden_continuous_size=64,\n",
    "    output_size=7,  # there are 7 quantiles by default: [0.02, 0.1, 0.25, 0.5, 0.75, 0.9, 0.98]\n",
    "    loss=QuantileLoss(),\n",
    "    #log_interval=10,\n",
    "    reduce_on_plateau_patience=100)\n",
    "\n",
    "trainer.fit(\n",
    "    tft,\n",
    "    train_dataloaders=train_dataloader,\n",
    "    val_dataloaders=val_dataloader)"
   ]
  },
  {
   "cell_type": "code",
   "execution_count": 55,
   "id": "49a14c11-e2ee-4200-a089-3825016d6223",
   "metadata": {
    "colab": {
     "base_uri": "https://localhost:8080/"
    },
    "executionInfo": {
     "elapsed": 450,
     "status": "ok",
     "timestamp": 1732550798270,
     "user": {
      "displayName": "Kathryn Lee Painter",
      "userId": "09534783426782667721"
     },
     "user_tz": 480
    },
    "id": "49a14c11-e2ee-4200-a089-3825016d6223",
    "outputId": "2466cfd1-880d-478b-c3e5-fef2b47356b5"
   },
   "outputs": [
    {
     "name": "stdout",
     "output_type": "stream",
     "text": [
      "lightning_logs/lightning_logs/version_19/checkpoints/epoch=5-step=54.ckpt\n"
     ]
    },
    {
     "name": "stderr",
     "output_type": "stream",
     "text": [
      "/Library/Frameworks/Python.framework/Versions/3.11/lib/python3.11/site-packages/lightning/pytorch/utilities/parsing.py:208: Attribute 'loss' is an instance of `nn.Module` and is already saved during checkpointing. It is recommended to ignore them using `self.save_hyperparameters(ignore=['loss'])`.\n",
      "/Library/Frameworks/Python.framework/Versions/3.11/lib/python3.11/site-packages/lightning/pytorch/utilities/parsing.py:208: Attribute 'logging_metrics' is an instance of `nn.Module` and is already saved during checkpointing. It is recommended to ignore them using `self.save_hyperparameters(ignore=['logging_metrics'])`.\n"
     ]
    }
   ],
   "source": [
    "# save best model\n",
    "best_model_path = trainer.checkpoint_callback.best_model_path\n",
    "print(best_model_path)\n",
    "best_tft = TemporalFusionTransformer.load_from_checkpoint(best_model_path)"
   ]
  },
  {
   "cell_type": "code",
   "execution_count": null,
   "id": "f2cb404c-6704-457b-9919-8562269f84d1",
   "metadata": {
    "id": "f2cb404c-6704-457b-9919-8562269f84d1"
   },
   "outputs": [],
   "source": [
    "# save model\n",
    "#!zip  -r model.zip lightning_logs/lightning_logs/version_0/*\n",
    "\n",
    "#load our saved model again\n",
    "#!unzip model.zip -y\n",
    "#best_model_path='lightning_logs/lightning_logs/version_1/checkpoints/epoch=8-step=4212.ckpt'\n",
    "#best_tft = TemporalFusionTransformer.load_from_checkpoint(best_model_path)"
   ]
  },
  {
   "cell_type": "code",
   "execution_count": null,
   "id": "6001bef9-d526-4668-ae1f-a0a58d5c6ac4",
   "metadata": {
    "id": "6001bef9-d526-4668-ae1f-a0a58d5c6ac4"
   },
   "outputs": [],
   "source": [
    "#load our saved model again\n",
    "#!unzip model.zip -y\n",
    "#best_model_path='lightning_logs/lightning_logs/version_1/checkpoints/epoch=8-step=4212.ckpt'\n",
    "#best_tft = TemporalFusionTransformer.load_from_checkpoint(best_model_path)"
   ]
  },
  {
   "cell_type": "markdown",
   "id": "efc13e07-44e5-48ae-bed7-76370c998fdc",
   "metadata": {
    "id": "efc13e07-44e5-48ae-bed7-76370c998fdc"
   },
   "source": [
    "# Evaluation"
   ]
  },
  {
   "cell_type": "code",
   "execution_count": 110,
   "id": "XktE3Al2isdE",
   "metadata": {
    "colab": {
     "base_uri": "https://localhost:8080/"
    },
    "executionInfo": {
     "elapsed": 354,
     "status": "ok",
     "timestamp": 1732550804558,
     "user": {
      "displayName": "Kathryn Lee Painter",
      "userId": "09534783426782667721"
     },
     "user_tz": 480
    },
    "id": "XktE3Al2isdE",
    "outputId": "d1f80162-ebe5-477b-de56-2c876c89abda"
   },
   "outputs": [
    {
     "name": "stderr",
     "output_type": "stream",
     "text": [
      "GPU available: False, used: False\n",
      "TPU available: False, using: 0 TPU cores\n",
      "HPU available: False, using: 0 HPUs\n"
     ]
    },
    {
     "data": {
      "text/plain": [
       "1.8412045240402222"
      ]
     },
     "execution_count": 110,
     "metadata": {},
     "output_type": "execute_result"
    }
   ],
   "source": [
    "raw_predictions = best_tft.predict(val_dataloader, mode=\"raw\", return_x=True)\n",
    "#print(raw_predictions._fields)\n",
    "\n",
    "# MAE \n",
    "MAE()(raw_predictions.output.prediction[0][:, 3], raw_predictions.y[0]).item()"
   ]
  },
  {
   "cell_type": "code",
   "execution_count": 111,
   "id": "ae6902a2-c3f0-48f1-b5fe-842d8b08c944",
   "metadata": {
    "colab": {
     "base_uri": "https://localhost:8080/",
     "height": 415
    },
    "executionInfo": {
     "elapsed": 616,
     "status": "ok",
     "timestamp": 1732550807875,
     "user": {
      "displayName": "Kathryn Lee Painter",
      "userId": "09534783426782667721"
     },
     "user_tz": 480
    },
    "id": "ae6902a2-c3f0-48f1-b5fe-842d8b08c944",
    "outputId": "a12b3a02-f440-4e76-bb0f-edd1fc35b36c"
   },
   "outputs": [
    {
     "data": {
      "image/png": "[encoded data removed]",
      "text/plain": [
       "<Figure size 1000x400 with 2 Axes>"
      ]
     },
     "metadata": {},
     "output_type": "display_data"
    }
   ],
   "source": [
    "for idx in range(1):  \n",
    "    fig, ax = plt.subplots(figsize=(10, 4))\n",
    "    best_tft.plot_prediction(raw_predictions.x, raw_predictions.output, idx=idx, add_loss_to_title=True, ax=ax)"
   ]
  },
  {
   "cell_type": "markdown",
   "id": "810575e7-8a25-445e-a09e-3ccff518750e",
   "metadata": {},
   "source": [
    "# Interpreability"
   ]
  },
  {
   "cell_type": "code",
   "execution_count": 16,
   "id": "926e9688-7be7-4e1c-84be-9b6b96b6bc08",
   "metadata": {},
   "outputs": [
    {
     "data": {
      "text/plain": [
       "{'attention': <Figure size 640x480 with 1 Axes>,\n",
       " 'static_variables': <Figure size 700x275 with 1 Axes>,\n",
       " 'encoder_variables': <Figure size 700x375 with 1 Axes>,\n",
       " 'decoder_variables': <Figure size 700x250 with 1 Axes>}"
      ]
     },
     "execution_count": 16,
     "metadata": {},
     "output_type": "execute_result"
    },
    {
     "data": {
      "image/png": "[encoded data removed]",
      "text/plain": [
       "<Figure size 640x480 with 1 Axes>"
      ]
     },
     "metadata": {},
     "output_type": "display_data"
    },
    {
     "data": {
      "image/png": "[encoded data removed]",
      "text/plain": [
       "<Figure size 700x275 with 1 Axes>"
      ]
     },
     "metadata": {},
     "output_type": "display_data"
    },
    {
     "data": {
      "image/png": "[encoded data removed]",
      "text/plain": [
       "<Figure size 700x375 with 1 Axes>"
      ]
     },
     "metadata": {},
     "output_type": "display_data"
    },
    {
     "data": {
      "image/png": "[encoded data removed]",
      "text/plain": [
       "<Figure size 700x250 with 1 Axes>"
      ]
     },
     "metadata": {},
     "output_type": "display_data"
    }
   ],
   "source": [
    "interpretation = best_tft.interpret_output(raw_predictions.output, reduction=\"sum\")\n",
    "best_tft.plot_interpretation(interpretation)"
   ]
  },
  {
   "cell_type": "code",
   "execution_count": null,
   "id": "31cd50c4-25ac-4b97-b056-68a8410fc067",
   "metadata": {},
   "outputs": [],
   "source": [
    "# extreme event detection on training set \n",
    "predictions = best_tft.predict(train_dataloader, return_x=True)\n",
    "predictions_vs_actuals = best_tft.calculate_prediction_actual_by_variable(predictions.x, predictions.output)\n",
    "best_tft.plot_prediction_actual_by_variable(predictions_vs_actuals)"
   ]
  },
  {
   "cell_type": "markdown",
   "id": "d4979428-60b5-47c2-b919-d52a497d8d82",
   "metadata": {},
   "source": [
    "# Hyper Parameter Tuning"
   ]
  },
  {
   "cell_type": "code",
   "execution_count": 114,
   "id": "93951ad7-11c5-49ee-996e-192ded3a2f21",
   "metadata": {},
   "outputs": [
    {
     "name": "stderr",
     "output_type": "stream",
     "text": [
      "/Library/Frameworks/Python.framework/Versions/3.11/lib/python3.11/site-packages/lightning/pytorch/trainer/connectors/data_connector.py:419: Consider setting `persistent_workers=True` in 'train_dataloader' to speed up the dataloader worker initialization.\n",
      "/Library/Frameworks/Python.framework/Versions/3.11/lib/python3.11/site-packages/lightning/pytorch/loops/fit_loop.py:298: The number of training batches (9) is smaller than the logging interval Trainer(log_every_n_steps=50). Set a lower value for log_every_n_steps if you want to see logs for the training epoch.\n",
      "/Library/Frameworks/Python.framework/Versions/3.11/lib/python3.11/site-packages/lightning/pytorch/trainer/connectors/data_connector.py:419: Consider setting `persistent_workers=True` in 'val_dataloader' to speed up the dataloader worker initialization.\n"
     ]
    },
    {
     "data": {
      "application/vnd.jupyter.widget-view+json": {
       "model_id": "264d46ebb85749da8241750e0ae4b2f3",
       "version_major": 2,
       "version_minor": 0
      },
      "text/plain": [
       "Finding best initial lr:   0%|          | 0/100 [00:00<?, ?it/s]"
      ]
     },
     "metadata": {},
     "output_type": "display_data"
    },
    {
     "name": "stderr",
     "output_type": "stream",
     "text": [
      "`Trainer.fit` stopped: `max_steps=100` reached.\n",
      "Learning rate set to 0.0017378008287493754\n",
      "Restoring states from the checkpoint path at /Users/KattPaint/Desktop/DATASCI266/10YT-Prediction-LSTM-NLP-Beige-Book/.lr_find_58168ef8-e712-429c-b5bf-3704d51b11fc.ckpt\n",
      "Restored all states from the checkpoint at /Users/KattPaint/Desktop/DATASCI266/10YT-Prediction-LSTM-NLP-Beige-Book/.lr_find_58168ef8-e712-429c-b5bf-3704d51b11fc.ckpt\n"
     ]
    },
    {
     "name": "stdout",
     "output_type": "stream",
     "text": [
      "suggested learning rate: 0.0017378008287493754\n"
     ]
    },
    {
     "data": {
      "image/png": "[encoded data removed]",
      "text/plain": [
       "<Figure size 640x480 with 1 Axes>"
      ]
     },
     "metadata": {},
     "output_type": "display_data"
    },
    {
     "name": "stderr",
     "output_type": "stream",
     "text": [
      "/var/folders/f6/7fg5p95n44sd8qk792nr68d40000gn/T/ipykernel_73812/1223426630.py:14: UserWarning: FigureCanvasAgg is non-interactive, and thus cannot be shown\n",
      "  fig.show()\n"
     ]
    }
   ],
   "source": [
    "# find optimal learning rate\n",
    "from lightning.pytorch.tuner import Tuner\n",
    "\n",
    "res = Tuner(trainer).lr_find(\n",
    "    tft,\n",
    "    train_dataloaders=train_dataloader,\n",
    "    val_dataloaders=val_dataloader,\n",
    "    max_lr=0.1,\n",
    "    min_lr=0.001,\n",
    ")\n",
    "\n",
    "print(f\"suggested learning rate: {res.suggestion()}\")\n",
    "fig = res.plot(show=True, suggest=True)\n",
    "fig.show()"
   ]
  },
  {
   "cell_type": "code",
   "execution_count": 122,
   "id": "9e29faba-96d8-4074-851e-e756cc9acf87",
   "metadata": {},
   "outputs": [
    {
     "ename": "ModuleNotFoundError",
     "evalue": "No module named 'optuna'",
     "output_type": "error",
     "traceback": [
      "\u001b[0;31m---------------------------------------------------------------------------\u001b[0m",
      "\u001b[0;31mModuleNotFoundError\u001b[0m                       Traceback (most recent call last)",
      "Cell \u001b[0;32mIn[122], line 2\u001b[0m\n\u001b[1;32m      1\u001b[0m \u001b[38;5;28;01mimport\u001b[39;00m \u001b[38;5;21;01mpickle\u001b[39;00m\n\u001b[0;32m----> 2\u001b[0m \u001b[38;5;28;01mimport\u001b[39;00m \u001b[38;5;21;01moptuna\u001b[39;00m\n\u001b[1;32m      3\u001b[0m \u001b[38;5;28;01mfrom\u001b[39;00m \u001b[38;5;21;01mpytorch_forecasting\u001b[39;00m\u001b[38;5;21;01m.\u001b[39;00m\u001b[38;5;21;01mmodels\u001b[39;00m\u001b[38;5;21;01m.\u001b[39;00m\u001b[38;5;21;01mtemporal_fusion_transformer\u001b[39;00m\u001b[38;5;21;01m.\u001b[39;00m\u001b[38;5;21;01mtuning\u001b[39;00m \u001b[38;5;28;01mimport\u001b[39;00m optimize_hyperparameters\n",
      "\u001b[0;31mModuleNotFoundError\u001b[0m: No module named 'optuna'"
     ]
    }
   ],
   "source": [
    "import pickle\n",
    "import optuna\n",
    "from pytorch_forecasting.models.temporal_fusion_transformer.tuning import optimize_hyperparameters"
   ]
  },
  {
   "cell_type": "code",
   "execution_count": 121,
   "id": "e21ae817-a189-42e5-affa-b2f1f04b2a64",
   "metadata": {},
   "outputs": [
    {
     "name": "stdout",
     "output_type": "stream",
     "text": [
      "Requirement already satisfied: optuna in /Users/KattPaint/opt/anaconda3/envs/datasci266/lib/python3.12/site-packages (4.1.0)\n",
      "Requirement already satisfied: alembic>=1.5.0 in /Users/KattPaint/opt/anaconda3/envs/datasci266/lib/python3.12/site-packages (from optuna) (1.14.0)\n",
      "Requirement already satisfied: colorlog in /Users/KattPaint/opt/anaconda3/envs/datasci266/lib/python3.12/site-packages (from optuna) (6.9.0)\n",
      "Requirement already satisfied: numpy in /Users/KattPaint/opt/anaconda3/envs/datasci266/lib/python3.12/site-packages (from optuna) (2.1.3)\n",
      "Requirement already satisfied: packaging>=20.0 in /Users/KattPaint/opt/anaconda3/envs/datasci266/lib/python3.12/site-packages (from optuna) (24.2)\n",
      "Requirement already satisfied: sqlalchemy>=1.4.2 in /Users/KattPaint/opt/anaconda3/envs/datasci266/lib/python3.12/site-packages (from optuna) (2.0.36)\n",
      "Requirement already satisfied: tqdm in /Users/KattPaint/opt/anaconda3/envs/datasci266/lib/python3.12/site-packages (from optuna) (4.67.1)\n",
      "Requirement already satisfied: PyYAML in /Users/KattPaint/opt/anaconda3/envs/datasci266/lib/python3.12/site-packages (from optuna) (6.0.2)\n",
      "Requirement already satisfied: Mako in /Users/KattPaint/opt/anaconda3/envs/datasci266/lib/python3.12/site-packages (from alembic>=1.5.0->optuna) (1.3.6)\n",
      "Requirement already satisfied: typing-extensions>=4 in /Users/KattPaint/opt/anaconda3/envs/datasci266/lib/python3.12/site-packages (from alembic>=1.5.0->optuna) (4.12.2)\n",
      "Requirement already satisfied: greenlet!=0.4.17 in /Users/KattPaint/opt/anaconda3/envs/datasci266/lib/python3.12/site-packages (from sqlalchemy>=1.4.2->optuna) (3.1.1)\n",
      "Requirement already satisfied: MarkupSafe>=0.9.2 in /Users/KattPaint/opt/anaconda3/envs/datasci266/lib/python3.12/site-packages (from Mako->alembic>=1.5.0->optuna) (3.0.2)\n"
     ]
    }
   ],
   "source": [
    "!pip install optuna"
   ]
  },
  {
   "cell_type": "code",
   "execution_count": 119,
   "id": "beb7f666-c1f8-4d61-9614-b3b30e0fea43",
   "metadata": {},
   "outputs": [
    {
     "ename": "ImportError",
     "evalue": "optimize_hyperparameters requires optuna and statsmodels. Please install these packages with `pip install optuna statsmodels`. From optuna 3.3.0, optuna-integration is also required.",
     "output_type": "error",
     "traceback": [
      "\u001b[0;31m---------------------------------------------------------------------------\u001b[0m",
      "\u001b[0;31mImportError\u001b[0m                               Traceback (most recent call last)",
      "Cell \u001b[0;32mIn[119], line 2\u001b[0m\n\u001b[1;32m      1\u001b[0m \u001b[38;5;66;03m# create study\u001b[39;00m\n\u001b[0;32m----> 2\u001b[0m study \u001b[38;5;241m=\u001b[39m \u001b[43moptimize_hyperparameters\u001b[49m\u001b[43m(\u001b[49m\n\u001b[1;32m      3\u001b[0m \u001b[43m    \u001b[49m\u001b[43mtrain_dataloader\u001b[49m\u001b[43m,\u001b[49m\n\u001b[1;32m      4\u001b[0m \u001b[43m    \u001b[49m\u001b[43mval_dataloader\u001b[49m\u001b[43m,\u001b[49m\n\u001b[1;32m      5\u001b[0m \u001b[43m    \u001b[49m\u001b[43mmodel_path\u001b[49m\u001b[38;5;241;43m=\u001b[39;49m\u001b[38;5;124;43m\"\u001b[39;49m\u001b[38;5;124;43moptuna_test\u001b[39;49m\u001b[38;5;124;43m\"\u001b[39;49m\u001b[43m,\u001b[49m\n\u001b[1;32m      6\u001b[0m \u001b[43m    \u001b[49m\u001b[43mn_trials\u001b[49m\u001b[38;5;241;43m=\u001b[39;49m\u001b[38;5;241;43m200\u001b[39;49m\u001b[43m,\u001b[49m\n\u001b[1;32m      7\u001b[0m \u001b[43m    \u001b[49m\u001b[43mmax_epochs\u001b[49m\u001b[38;5;241;43m=\u001b[39;49m\u001b[38;5;241;43m50\u001b[39;49m\u001b[43m,\u001b[49m\n\u001b[1;32m      8\u001b[0m \u001b[43m    \u001b[49m\u001b[43mgradient_clip_val_range\u001b[49m\u001b[38;5;241;43m=\u001b[39;49m\u001b[43m(\u001b[49m\u001b[38;5;241;43m0.01\u001b[39;49m\u001b[43m,\u001b[49m\u001b[43m \u001b[49m\u001b[38;5;241;43m1.0\u001b[39;49m\u001b[43m)\u001b[49m\u001b[43m,\u001b[49m\n\u001b[1;32m      9\u001b[0m \u001b[43m    \u001b[49m\u001b[43mhidden_size_range\u001b[49m\u001b[38;5;241;43m=\u001b[39;49m\u001b[43m(\u001b[49m\u001b[38;5;241;43m8\u001b[39;49m\u001b[43m,\u001b[49m\u001b[43m \u001b[49m\u001b[38;5;241;43m128\u001b[39;49m\u001b[43m)\u001b[49m\u001b[43m,\u001b[49m\n\u001b[1;32m     10\u001b[0m \u001b[43m    \u001b[49m\u001b[43mhidden_continuous_size_range\u001b[49m\u001b[38;5;241;43m=\u001b[39;49m\u001b[43m(\u001b[49m\u001b[38;5;241;43m8\u001b[39;49m\u001b[43m,\u001b[49m\u001b[43m \u001b[49m\u001b[38;5;241;43m128\u001b[39;49m\u001b[43m)\u001b[49m\u001b[43m,\u001b[49m\n\u001b[1;32m     11\u001b[0m \u001b[43m    \u001b[49m\u001b[43mattention_head_size_range\u001b[49m\u001b[38;5;241;43m=\u001b[39;49m\u001b[43m(\u001b[49m\u001b[38;5;241;43m1\u001b[39;49m\u001b[43m,\u001b[49m\u001b[43m \u001b[49m\u001b[38;5;241;43m4\u001b[39;49m\u001b[43m)\u001b[49m\u001b[43m,\u001b[49m\n\u001b[1;32m     12\u001b[0m \u001b[43m    \u001b[49m\u001b[43mlearning_rate_range\u001b[49m\u001b[38;5;241;43m=\u001b[39;49m\u001b[43m(\u001b[49m\u001b[38;5;241;43m0.001\u001b[39;49m\u001b[43m,\u001b[49m\u001b[43m \u001b[49m\u001b[38;5;241;43m0.1\u001b[39;49m\u001b[43m)\u001b[49m\u001b[43m,\u001b[49m\n\u001b[1;32m     13\u001b[0m \u001b[43m    \u001b[49m\u001b[43mdropout_range\u001b[49m\u001b[38;5;241;43m=\u001b[39;49m\u001b[43m(\u001b[49m\u001b[38;5;241;43m0.1\u001b[39;49m\u001b[43m,\u001b[49m\u001b[43m \u001b[49m\u001b[38;5;241;43m0.3\u001b[39;49m\u001b[43m)\u001b[49m\u001b[43m,\u001b[49m\n\u001b[1;32m     14\u001b[0m \u001b[43m    \u001b[49m\u001b[43mtrainer_kwargs\u001b[49m\u001b[38;5;241;43m=\u001b[39;49m\u001b[38;5;28;43mdict\u001b[39;49m\u001b[43m(\u001b[49m\u001b[43mlimit_train_batches\u001b[49m\u001b[38;5;241;43m=\u001b[39;49m\u001b[38;5;241;43m30\u001b[39;49m\u001b[43m)\u001b[49m\u001b[43m,\u001b[49m\n\u001b[1;32m     15\u001b[0m \u001b[43m    \u001b[49m\u001b[43mreduce_on_plateau_patience\u001b[49m\u001b[38;5;241;43m=\u001b[39;49m\u001b[38;5;241;43m4\u001b[39;49m\u001b[43m,\u001b[49m\n\u001b[1;32m     16\u001b[0m \u001b[43m    \u001b[49m\u001b[43muse_learning_rate_finder\u001b[49m\u001b[38;5;241;43m=\u001b[39;49m\u001b[38;5;28;43;01mFalse\u001b[39;49;00m\u001b[43m,\u001b[49m\u001b[43m  \u001b[49m\u001b[38;5;66;43;03m# use Optuna to find ideal learning rate or use in-built learning rate finder\u001b[39;49;00m\n\u001b[1;32m     17\u001b[0m \u001b[43m)\u001b[49m\n\u001b[1;32m     19\u001b[0m \u001b[38;5;66;03m# save study results - also we can resume tuning at a later point in time\u001b[39;00m\n\u001b[1;32m     20\u001b[0m \u001b[38;5;28;01mwith\u001b[39;00m \u001b[38;5;28mopen\u001b[39m(\u001b[38;5;124m\"\u001b[39m\u001b[38;5;124mtest_study.pkl\u001b[39m\u001b[38;5;124m\"\u001b[39m, \u001b[38;5;124m\"\u001b[39m\u001b[38;5;124mwb\u001b[39m\u001b[38;5;124m\"\u001b[39m) \u001b[38;5;28;01mas\u001b[39;00m fout:\n",
      "File \u001b[0;32m/Library/Frameworks/Python.framework/Versions/3.11/lib/python3.11/site-packages/pytorch_forecasting/models/temporal_fusion_transformer/tuning.py:93\u001b[0m, in \u001b[0;36moptimize_hyperparameters\u001b[0;34m(train_dataloaders, val_dataloaders, model_path, max_epochs, n_trials, timeout, gradient_clip_val_range, hidden_size_range, hidden_continuous_size_range, attention_head_size_range, dropout_range, learning_rate_range, use_learning_rate_finder, trainer_kwargs, log_dir, study, verbose, pruner, **kwargs)\u001b[0m\n\u001b[1;32m     90\u001b[0m pkgs \u001b[38;5;241m=\u001b[39m _get_installed_packages()\n\u001b[1;32m     92\u001b[0m \u001b[38;5;28;01mif\u001b[39;00m \u001b[38;5;124m\"\u001b[39m\u001b[38;5;124moptuna\u001b[39m\u001b[38;5;124m\"\u001b[39m \u001b[38;5;129;01mnot\u001b[39;00m \u001b[38;5;129;01min\u001b[39;00m pkgs \u001b[38;5;129;01mor\u001b[39;00m \u001b[38;5;124m\"\u001b[39m\u001b[38;5;124mstatsmodels\u001b[39m\u001b[38;5;124m\"\u001b[39m \u001b[38;5;129;01mnot\u001b[39;00m \u001b[38;5;129;01min\u001b[39;00m pkgs:\n\u001b[0;32m---> 93\u001b[0m     \u001b[38;5;28;01mraise\u001b[39;00m \u001b[38;5;167;01mImportError\u001b[39;00m(\n\u001b[1;32m     94\u001b[0m         \u001b[38;5;124m\"\u001b[39m\u001b[38;5;124moptimize_hyperparameters requires optuna and statsmodels. \u001b[39m\u001b[38;5;124m\"\u001b[39m\n\u001b[1;32m     95\u001b[0m         \u001b[38;5;124m\"\u001b[39m\u001b[38;5;124mPlease install these packages with `pip install optuna statsmodels`. \u001b[39m\u001b[38;5;124m\"\u001b[39m\n\u001b[1;32m     96\u001b[0m         \u001b[38;5;124m\"\u001b[39m\u001b[38;5;124mFrom optuna 3.3.0, optuna-integration is also required.\u001b[39m\u001b[38;5;124m\"\u001b[39m\n\u001b[1;32m     97\u001b[0m     )\n\u001b[1;32m     99\u001b[0m \u001b[38;5;28;01mimport\u001b[39;00m \u001b[38;5;21;01moptuna\u001b[39;00m\n\u001b[1;32m    100\u001b[0m \u001b[38;5;28;01mfrom\u001b[39;00m \u001b[38;5;21;01moptuna\u001b[39;00m\u001b[38;5;21;01m.\u001b[39;00m\u001b[38;5;21;01mintegration\u001b[39;00m \u001b[38;5;28;01mimport\u001b[39;00m PyTorchLightningPruningCallback\n",
      "\u001b[0;31mImportError\u001b[0m: optimize_hyperparameters requires optuna and statsmodels. Please install these packages with `pip install optuna statsmodels`. From optuna 3.3.0, optuna-integration is also required."
     ]
    }
   ],
   "source": [
    "# create study\n",
    "study = optimize_hyperparameters(\n",
    "    train_dataloader,\n",
    "    val_dataloader,\n",
    "    model_path=\"optuna_test\",\n",
    "    n_trials=200,\n",
    "    max_epochs=50,\n",
    "    gradient_clip_val_range=(0.01, 1.0),\n",
    "    hidden_size_range=(8, 128),\n",
    "    hidden_continuous_size_range=(8, 128),\n",
    "    attention_head_size_range=(1, 4),\n",
    "    learning_rate_range=(0.001, 0.1),\n",
    "    dropout_range=(0.1, 0.3),\n",
    "    trainer_kwargs=dict(limit_train_batches=30),\n",
    "    reduce_on_plateau_patience=4,\n",
    "    use_learning_rate_finder=False,  # use Optuna to find ideal learning rate or use in-built learning rate finder\n",
    ")\n",
    "\n",
    "# save study results - also we can resume tuning at a later point in time\n",
    "with open(\"test_study.pkl\", \"wb\") as fout:\n",
    "    pickle.dump(study, fout)\n",
    "\n",
    "# show best hyperparameters\n",
    "print(study.best_trial.params)"
   ]
  }
 ],
 "metadata": {
  "colab": {
   "provenance": []
  },
  "kernelspec": {
   "display_name": "Python 3 (ipykernel)",
   "language": "python",
   "name": "python3"
  },
  "language_info": {
   "codemirror_mode": {
    "name": "ipython",
    "version": 3
   },
   "file_extension": ".py",
   "mimetype": "text/x-python",
   "name": "python",
   "nbconvert_exporter": "python",
   "pygments_lexer": "ipython3",
   "version": "3.11.1"
  },
  "widgets": {
   "application/vnd.jupyter.widget-state+json": {
    "02ec0859831f4350b47d179b1050f9b1": {
     "model_module": "@jupyter-widgets/controls",
     "model_module_version": "1.5.0",
     "model_name": "HTMLModel",
     "state": {
      "_dom_classes": [],
      "_model_module": "@jupyter-widgets/controls",
      "_model_module_version": "1.5.0",
      "_model_name": "HTMLModel",
      "_view_count": null,
      "_view_module": "@jupyter-widgets/controls",
      "_view_module_version": "1.5.0",
      "_view_name": "HTMLView",
      "description": "",
      "description_tooltip": null,
      "layout": "IPY_MODEL_cc81d3530fc647bbad2b0173b2909319",
      "placeholder": "​",
      "style": "IPY_MODEL_c56e193f56e344a08866e8fcfbf912e6",
      "value": "Sanity Checking DataLoader 0:   0%"
     }
    },
    "455b60ff2ca540808984a5240d4618cf": {
     "model_module": "@jupyter-widgets/controls",
     "model_module_version": "1.5.0",
     "model_name": "HTMLModel",
     "state": {
      "_dom_classes": [],
      "_model_module": "@jupyter-widgets/controls",
      "_model_module_version": "1.5.0",
      "_model_name": "HTMLModel",
      "_view_count": null,
      "_view_module": "@jupyter-widgets/controls",
      "_view_module_version": "1.5.0",
      "_view_name": "HTMLView",
      "description": "",
      "description_tooltip": null,
      "layout": "IPY_MODEL_5c21972816704d50b2624262cb59b08a",
      "placeholder": "​",
      "style": "IPY_MODEL_861ca3e93f004f1f939231948427d53f",
      "value": " 0/1 [00:00&lt;?, ?it/s]"
     }
    },
    "5c21972816704d50b2624262cb59b08a": {
     "model_module": "@jupyter-widgets/base",
     "model_module_version": "1.2.0",
     "model_name": "LayoutModel",
     "state": {
      "_model_module": "@jupyter-widgets/base",
      "_model_module_version": "1.2.0",
      "_model_name": "LayoutModel",
      "_view_count": null,
      "_view_module": "@jupyter-widgets/base",
      "_view_module_version": "1.2.0",
      "_view_name": "LayoutView",
      "align_content": null,
      "align_items": null,
      "align_self": null,
      "border": null,
      "bottom": null,
      "display": null,
      "flex": null,
      "flex_flow": null,
      "grid_area": null,
      "grid_auto_columns": null,
      "grid_auto_flow": null,
      "grid_auto_rows": null,
      "grid_column": null,
      "grid_gap": null,
      "grid_row": null,
      "grid_template_areas": null,
      "grid_template_columns": null,
      "grid_template_rows": null,
      "height": null,
      "justify_content": null,
      "justify_items": null,
      "left": null,
      "margin": null,
      "max_height": null,
      "max_width": null,
      "min_height": null,
      "min_width": null,
      "object_fit": null,
      "object_position": null,
      "order": null,
      "overflow": null,
      "overflow_x": null,
      "overflow_y": null,
      "padding": null,
      "right": null,
      "top": null,
      "visibility": null,
      "width": null
     }
    },
    "6b987b24c60a4780a49c5ca6a898a979": {
     "model_module": "@jupyter-widgets/controls",
     "model_module_version": "1.5.0",
     "model_name": "HBoxModel",
     "state": {
      "_dom_classes": [],
      "_model_module": "@jupyter-widgets/controls",
      "_model_module_version": "1.5.0",
      "_model_name": "HBoxModel",
      "_view_count": null,
      "_view_module": "@jupyter-widgets/controls",
      "_view_module_version": "1.5.0",
      "_view_name": "HBoxView",
      "box_style": "",
      "children": [
       "IPY_MODEL_02ec0859831f4350b47d179b1050f9b1",
       "IPY_MODEL_ff5d1740d41c4a85948275d6c7afc91b",
       "IPY_MODEL_455b60ff2ca540808984a5240d4618cf"
      ],
      "layout": "IPY_MODEL_c60746e5057c400fa9ff0739a9b8b99e"
     }
    },
    "861ca3e93f004f1f939231948427d53f": {
     "model_module": "@jupyter-widgets/controls",
     "model_module_version": "1.5.0",
     "model_name": "DescriptionStyleModel",
     "state": {
      "_model_module": "@jupyter-widgets/controls",
      "_model_module_version": "1.5.0",
      "_model_name": "DescriptionStyleModel",
      "_view_count": null,
      "_view_module": "@jupyter-widgets/base",
      "_view_module_version": "1.2.0",
      "_view_name": "StyleView",
      "description_width": ""
     }
    },
    "bd2d6a5c099241bfb6840a3e06ef25c7": {
     "model_module": "@jupyter-widgets/base",
     "model_module_version": "1.2.0",
     "model_name": "LayoutModel",
     "state": {
      "_model_module": "@jupyter-widgets/base",
      "_model_module_version": "1.2.0",
      "_model_name": "LayoutModel",
      "_view_count": null,
      "_view_module": "@jupyter-widgets/base",
      "_view_module_version": "1.2.0",
      "_view_name": "LayoutView",
      "align_content": null,
      "align_items": null,
      "align_self": null,
      "border": null,
      "bottom": null,
      "display": null,
      "flex": "2",
      "flex_flow": null,
      "grid_area": null,
      "grid_auto_columns": null,
      "grid_auto_flow": null,
      "grid_auto_rows": null,
      "grid_column": null,
      "grid_gap": null,
      "grid_row": null,
      "grid_template_areas": null,
      "grid_template_columns": null,
      "grid_template_rows": null,
      "height": null,
      "justify_content": null,
      "justify_items": null,
      "left": null,
      "margin": null,
      "max_height": null,
      "max_width": null,
      "min_height": null,
      "min_width": null,
      "object_fit": null,
      "object_position": null,
      "order": null,
      "overflow": null,
      "overflow_x": null,
      "overflow_y": null,
      "padding": null,
      "right": null,
      "top": null,
      "visibility": null,
      "width": null
     }
    },
    "c56e193f56e344a08866e8fcfbf912e6": {
     "model_module": "@jupyter-widgets/controls",
     "model_module_version": "1.5.0",
     "model_name": "DescriptionStyleModel",
     "state": {
      "_model_module": "@jupyter-widgets/controls",
      "_model_module_version": "1.5.0",
      "_model_name": "DescriptionStyleModel",
      "_view_count": null,
      "_view_module": "@jupyter-widgets/base",
      "_view_module_version": "1.2.0",
      "_view_name": "StyleView",
      "description_width": ""
     }
    },
    "c60746e5057c400fa9ff0739a9b8b99e": {
     "model_module": "@jupyter-widgets/base",
     "model_module_version": "1.2.0",
     "model_name": "LayoutModel",
     "state": {
      "_model_module": "@jupyter-widgets/base",
      "_model_module_version": "1.2.0",
      "_model_name": "LayoutModel",
      "_view_count": null,
      "_view_module": "@jupyter-widgets/base",
      "_view_module_version": "1.2.0",
      "_view_name": "LayoutView",
      "align_content": null,
      "align_items": null,
      "align_self": null,
      "border": null,
      "bottom": null,
      "display": "inline-flex",
      "flex": null,
      "flex_flow": "row wrap",
      "grid_area": null,
      "grid_auto_columns": null,
      "grid_auto_flow": null,
      "grid_auto_rows": null,
      "grid_column": null,
      "grid_gap": null,
      "grid_row": null,
      "grid_template_areas": null,
      "grid_template_columns": null,
      "grid_template_rows": null,
      "height": null,
      "justify_content": null,
      "justify_items": null,
      "left": null,
      "margin": null,
      "max_height": null,
      "max_width": null,
      "min_height": null,
      "min_width": null,
      "object_fit": null,
      "object_position": null,
      "order": null,
      "overflow": null,
      "overflow_x": null,
      "overflow_y": null,
      "padding": null,
      "right": null,
      "top": null,
      "visibility": null,
      "width": "100%"
     }
    },
    "cc81d3530fc647bbad2b0173b2909319": {
     "model_module": "@jupyter-widgets/base",
     "model_module_version": "1.2.0",
     "model_name": "LayoutModel",
     "state": {
      "_model_module": "@jupyter-widgets/base",
      "_model_module_version": "1.2.0",
      "_model_name": "LayoutModel",
      "_view_count": null,
      "_view_module": "@jupyter-widgets/base",
      "_view_module_version": "1.2.0",
      "_view_name": "LayoutView",
      "align_content": null,
      "align_items": null,
      "align_self": null,
      "border": null,
      "bottom": null,
      "display": null,
      "flex": null,
      "flex_flow": null,
      "grid_area": null,
      "grid_auto_columns": null,
      "grid_auto_flow": null,
      "grid_auto_rows": null,
      "grid_column": null,
      "grid_gap": null,
      "grid_row": null,
      "grid_template_areas": null,
      "grid_template_columns": null,
      "grid_template_rows": null,
      "height": null,
      "justify_content": null,
      "justify_items": null,
      "left": null,
      "margin": null,
      "max_height": null,
      "max_width": null,
      "min_height": null,
      "min_width": null,
      "object_fit": null,
      "object_position": null,
      "order": null,
      "overflow": null,
      "overflow_x": null,
      "overflow_y": null,
      "padding": null,
      "right": null,
      "top": null,
      "visibility": null,
      "width": null
     }
    },
    "f580e91b5d7643b9ba5a6e8a301333eb": {
     "model_module": "@jupyter-widgets/controls",
     "model_module_version": "1.5.0",
     "model_name": "ProgressStyleModel",
     "state": {
      "_model_module": "@jupyter-widgets/controls",
      "_model_module_version": "1.5.0",
      "_model_name": "ProgressStyleModel",
      "_view_count": null,
      "_view_module": "@jupyter-widgets/base",
      "_view_module_version": "1.2.0",
      "_view_name": "StyleView",
      "bar_color": null,
      "description_width": ""
     }
    },
    "ff5d1740d41c4a85948275d6c7afc91b": {
     "model_module": "@jupyter-widgets/controls",
     "model_module_version": "1.5.0",
     "model_name": "FloatProgressModel",
     "state": {
      "_dom_classes": [],
      "_model_module": "@jupyter-widgets/controls",
      "_model_module_version": "1.5.0",
      "_model_name": "FloatProgressModel",
      "_view_count": null,
      "_view_module": "@jupyter-widgets/controls",
      "_view_module_version": "1.5.0",
      "_view_name": "ProgressView",
      "bar_style": "",
      "description": "",
      "description_tooltip": null,
      "layout": "IPY_MODEL_bd2d6a5c099241bfb6840a3e06ef25c7",
      "max": 1,
      "min": 0,
      "orientation": "horizontal",
      "style": "IPY_MODEL_f580e91b5d7643b9ba5a6e8a301333eb",
      "value": 0
     }
    }
   }
  }
 },
 "nbformat": 4,
 "nbformat_minor": 5
}
