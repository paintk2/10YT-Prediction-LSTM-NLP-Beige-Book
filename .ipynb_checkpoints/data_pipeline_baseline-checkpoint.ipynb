{
 "cells": [
  {
   "cell_type": "code",
   "execution_count": 4,
   "id": "0a9e1f3d-8cd5-4750-82e2-cd0ef98ce69e",
   "metadata": {},
   "outputs": [],
   "source": [
    "# Data Sources\n",
    "from fredapi import Fred\n",
    "\n",
    "# Data Wrangling\n",
    "import pandas as pd \n",
    "import numpy as np\n",
    "from datetime import datetime"
   ]
  },
  {
   "cell_type": "markdown",
   "id": "63623c82-dad8-4112-b9df-042b09d9b171",
   "metadata": {},
   "source": [
    "# Pull Data from FRED API "
   ]
  },
  {
   "cell_type": "code",
   "execution_count": 5,
   "id": "134b544d",
   "metadata": {},
   "outputs": [],
   "source": [
    "fred = Fred(api_key = 'd8c837149005fd272f94b30f77dad8fa')\n",
    "\n",
    "# 10YT, monthly\n",
    "t10yr = fred.get_series('DGS10', observation_start=\"1970-01-01\", frequency='m')\n",
    "\n",
    "# CPI, monthly\n",
    "cpi = fred.get_series('CPALTT01USM657N', observation_start=\"1970-01-01\")\n",
    "\n",
    "# Unemployment, monthly\n",
    "unemp = fred.get_series('UNRATE', observation_start=\"1970-01-01\")\n",
    "\n",
    "# Retail Sales, monthly\n",
    "retail = fred.get_series('MRTSSM44000USS', observation_start=\"1970-01-01\")\n",
    "\n",
    "# PPI, monthly\n",
    "ppi = fred.get_series('PPIACO', observation_start=\"1970-01-01\")\n",
    "\n",
    "# Personal Savings, monthly\n",
    "saving = fred.get_series('PSAVERT', observation_start=\"1970-01-01\")\n",
    "\n",
    "# price of oil, monthly\n",
    "oil = fred.get_series('DCOILWTICO', observation_start=\"1970-01-01\", frequency='m')"
   ]
  },
  {
   "cell_type": "markdown",
   "id": "c3df8ff7-d3cc-4655-a1ed-b1fcea58ebf2",
   "metadata": {},
   "source": [
    "# Combine into Single Data Frame"
   ]
  },
  {
   "cell_type": "code",
   "execution_count": 6,
   "id": "7749b080-fc62-412f-9424-bbb7edd575f5",
   "metadata": {},
   "outputs": [
    {
     "data": {
      "text/html": [
       "<div>\n",
       "<style scoped>\n",
       "    .dataframe tbody tr th:only-of-type {\n",
       "        vertical-align: middle;\n",
       "    }\n",
       "\n",
       "    .dataframe tbody tr th {\n",
       "        vertical-align: top;\n",
       "    }\n",
       "\n",
       "    .dataframe thead th {\n",
       "        text-align: right;\n",
       "    }\n",
       "</style>\n",
       "<table border=\"1\" class=\"dataframe\">\n",
       "  <thead>\n",
       "    <tr style=\"text-align: right;\">\n",
       "      <th></th>\n",
       "      <th>t10yr</th>\n",
       "      <th>cpi</th>\n",
       "      <th>unemp</th>\n",
       "      <th>ppi</th>\n",
       "      <th>saving</th>\n",
       "    </tr>\n",
       "  </thead>\n",
       "  <tbody>\n",
       "    <tr>\n",
       "      <th>1970-01-01</th>\n",
       "      <td>7.79</td>\n",
       "      <td>0.265252</td>\n",
       "      <td>3.9</td>\n",
       "      <td>36.5</td>\n",
       "      <td>11.8</td>\n",
       "    </tr>\n",
       "    <tr>\n",
       "      <th>1970-02-01</th>\n",
       "      <td>7.24</td>\n",
       "      <td>0.529101</td>\n",
       "      <td>4.2</td>\n",
       "      <td>36.7</td>\n",
       "      <td>11.7</td>\n",
       "    </tr>\n",
       "    <tr>\n",
       "      <th>1970-03-01</th>\n",
       "      <td>7.07</td>\n",
       "      <td>0.526316</td>\n",
       "      <td>4.4</td>\n",
       "      <td>36.7</td>\n",
       "      <td>12.4</td>\n",
       "    </tr>\n",
       "    <tr>\n",
       "      <th>1970-04-01</th>\n",
       "      <td>7.39</td>\n",
       "      <td>0.785340</td>\n",
       "      <td>4.6</td>\n",
       "      <td>36.8</td>\n",
       "      <td>13.3</td>\n",
       "    </tr>\n",
       "    <tr>\n",
       "      <th>1970-05-01</th>\n",
       "      <td>7.91</td>\n",
       "      <td>0.259740</td>\n",
       "      <td>4.8</td>\n",
       "      <td>36.8</td>\n",
       "      <td>12.4</td>\n",
       "    </tr>\n",
       "  </tbody>\n",
       "</table>\n",
       "</div>"
      ],
      "text/plain": [
       "            t10yr       cpi  unemp   ppi  saving\n",
       "1970-01-01   7.79  0.265252    3.9  36.5    11.8\n",
       "1970-02-01   7.24  0.529101    4.2  36.7    11.7\n",
       "1970-03-01   7.07  0.526316    4.4  36.7    12.4\n",
       "1970-04-01   7.39  0.785340    4.6  36.8    13.3\n",
       "1970-05-01   7.91  0.259740    4.8  36.8    12.4"
      ]
     },
     "execution_count": 6,
     "metadata": {},
     "output_type": "execute_result"
    }
   ],
   "source": [
    "data = pd.DataFrame(t10yr)\n",
    "data.columns = ['t10yr']\n",
    "\n",
    "# convert index to datatime\n",
    "data.index = pd.to_datetime(data.index,format='%Y-%m-%d')\n",
    "\n",
    "# fitler\n",
    "#data = data.loc[data.index <= datetime(2024, 3, 1), :]\n",
    "\n",
    "# cpi\n",
    "data = data.join(pd.DataFrame(cpi, columns=['cpi']))\n",
    "#unemp\n",
    "data = data.join(pd.DataFrame(unemp, columns=['unemp']))\n",
    "#retail\n",
    "#data = data.join(pd.DataFrame(retail, columns=['retail']))\n",
    "#ppi\n",
    "data = data.join(pd.DataFrame(ppi, columns=['ppi']))\n",
    "#saving\n",
    "data = data.join(pd.DataFrame(saving, columns=['saving']))\n",
    "\n",
    "data = data.dropna()\n",
    "\n",
    "data.head()"
   ]
  },
  {
   "cell_type": "markdown",
   "id": "64fd4057",
   "metadata": {},
   "source": [
    "# Export "
   ]
  },
  {
   "cell_type": "code",
   "execution_count": null,
   "id": "4d5ae5d7",
   "metadata": {},
   "outputs": [],
   "source": [
    "data.to_csv('../data/monthly_target_economic_factors.csv', encoding='utf-8', index=False)"
   ]
  }
 ],
 "metadata": {
  "kernelspec": {
   "display_name": "Python 3 (ipykernel)",
   "language": "python",
   "name": "python3"
  },
  "language_info": {
   "codemirror_mode": {
    "name": "ipython",
    "version": 3
   },
   "file_extension": ".py",
   "mimetype": "text/x-python",
   "name": "python",
   "nbconvert_exporter": "python",
   "pygments_lexer": "ipython3",
   "version": "3.8.5"
  }
 },
 "nbformat": 4,
 "nbformat_minor": 5
}
