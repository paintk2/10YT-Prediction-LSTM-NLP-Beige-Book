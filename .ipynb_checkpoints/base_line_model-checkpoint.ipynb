{
 "cells": [
  {
   "cell_type": "code",
   "execution_count": null,
   "id": "9e58ae89",
   "metadata": {},
   "outputs": [],
   "source": [
    "#!pip install scikit-learn"
   ]
  },
  {
   "cell_type": "code",
   "execution_count": null,
   "id": "0a9e1f3d-8cd5-4750-82e2-cd0ef98ce69e",
   "metadata": {},
   "outputs": [],
   "source": [
    "# Data Sources\n",
    "from fredapi import Fred\n",
    "\n",
    "# Data Wrangling\n",
    "import pandas as pd \n",
    "import numpy as np\n",
    "from datetime import datetime\n",
    "from sklearn.preprocessing import MinMaxScaler\n",
    "\n",
    "# Visuals \n",
    "import matplotlib.pyplot as plt\n",
    "import plotly.express as px\n",
    "import seaborn as sns\n",
    "\n",
    "# Modeling \n",
    "\n",
    "\n",
    "# Set style \n",
    "plt.style.use('fivethirtyeight')\n",
    "# plt.style.available"
   ]
  },
  {
   "cell_type": "markdown",
   "id": "63623c82-dad8-4112-b9df-042b09d9b171",
   "metadata": {},
   "source": [
    "# Pull Data from FRED API "
   ]
  },
  {
   "cell_type": "code",
   "execution_count": null,
   "id": "8e9501ee-c02a-4146-91b8-ffdbc7205f7f",
   "metadata": {},
   "outputs": [],
   "source": [
    "fred = Fred(api_key = 'd8c837149005fd272f94b30f77dad8fa')"
   ]
  },
  {
   "cell_type": "code",
   "execution_count": null,
   "id": "0abbcc3e-837b-4139-adb1-d493628722fa",
   "metadata": {},
   "outputs": [],
   "source": [
    "# 10YT, monthly\n",
    "t10yr = fred.get_series('DGS10', observation_start=\"1970-01-01\", frequency='m')"
   ]
  },
  {
   "cell_type": "code",
   "execution_count": null,
   "id": "be4c16f1-e50d-4962-b654-3b3670277676",
   "metadata": {},
   "outputs": [],
   "source": [
    "# GDP, quarterly \n",
    "gdp = fred.get_series('GDP', observation_start=\"1970-01-01\")"
   ]
  },
  {
   "cell_type": "code",
   "execution_count": null,
   "id": "c8d533b1-1be5-48a8-b9dc-99ac1eda3fbe",
   "metadata": {},
   "outputs": [],
   "source": [
    "# CPI, monthly \n",
    "cpi = fred.get_series('CPALTT01USM657N', observation_start=\"1970-01-01\")"
   ]
  },
  {
   "cell_type": "code",
   "execution_count": null,
   "id": "fa2a551f-7b72-4acb-a632-9fcd613325a5",
   "metadata": {},
   "outputs": [],
   "source": [
    "# Unemployment, monthly \n",
    "unemp = fred.get_series('UNRATE', observation_start=\"1970-01-01\")"
   ]
  },
  {
   "cell_type": "code",
   "execution_count": null,
   "id": "730b3acb-63a8-46b7-b753-564d43cdda7f",
   "metadata": {},
   "outputs": [],
   "source": [
    "# Deliquency Rate on Credit Card Loans, quarterly \n",
    "default = fred.get_series('DRCCLACBS', observation_start=\"1970-01-01\")"
   ]
  },
  {
   "cell_type": "code",
   "execution_count": null,
   "id": "7b41724b-d19b-48ab-a228-284544ff0fba",
   "metadata": {},
   "outputs": [],
   "source": [
    "# Retail Sales, monthly \n",
    "retail = fred.get_series('MRTSSM44000USS', observation_start=\"1970-01-01\")"
   ]
  },
  {
   "cell_type": "code",
   "execution_count": null,
   "id": "ae40cf61-04ff-42f2-a131-13172d0daa85",
   "metadata": {},
   "outputs": [],
   "source": [
    "# PPI, monthly \n",
    "ppi = fred.get_series('PPIACO', observation_start=\"1970-01-01\")"
   ]
  },
  {
   "cell_type": "code",
   "execution_count": null,
   "id": "427dec96-e8fc-452b-9b84-680ada024bed",
   "metadata": {},
   "outputs": [],
   "source": [
    "# Personal Savings, monthly\n",
    "saving = fred.get_series('PSAVERT', observation_start=\"1970-01-01\")"
   ]
  },
  {
   "cell_type": "code",
   "execution_count": null,
   "id": "c91b8791-114f-46c3-bfdc-e1c993a1f922",
   "metadata": {},
   "outputs": [],
   "source": [
    "# Median Sales Price of Houses Sold, quarterly \n",
    "housing = fred.get_series('MSPUS', observation_start=\"1970-01-01\")"
   ]
  },
  {
   "cell_type": "code",
   "execution_count": null,
   "id": "c62d16c4-4389-4fe4-9dfc-c6ffe225f72b",
   "metadata": {},
   "outputs": [],
   "source": [
    "# price of oil, monthly\n",
    "oil = fred.get_series('DCOILWTICO', observation_start=\"1970-01-01\", frequency='m')"
   ]
  },
  {
   "cell_type": "code",
   "execution_count": null,
   "id": "062c945d",
   "metadata": {},
   "outputs": [],
   "source": [
    "# federal funds rate, monthly \n",
    "ffr = fred.get_series('DFF', observation_start=\"1970-01-01\", frequency='m')"
   ]
  },
  {
   "cell_type": "code",
   "execution_count": null,
   "id": "985bda22",
   "metadata": {},
   "outputs": [],
   "source": [
    "# USD to EU exchange rate, monthly \n",
    "euexch = fred.get_series('DEXUSEU', observation_start=\"1970-01-01\", frequency='m')"
   ]
  },
  {
   "cell_type": "code",
   "execution_count": null,
   "id": "61801066",
   "metadata": {},
   "outputs": [],
   "source": [
    "# USD to Chinese Yuan exchange rate, monthly \n",
    "chexch = fred.get_series('DEXCHUS', observation_start=\"1970-01-01\", frequency='m')"
   ]
  },
  {
   "cell_type": "code",
   "execution_count": null,
   "id": "22e979d8",
   "metadata": {},
   "outputs": [],
   "source": [
    "# USD to Russian Ruble, monthly \n",
    "ruexch = fred.get_series('CCUSMA02RUM618N', observation_start=\"1970-01-01\", frequency='m')"
   ]
  },
  {
   "cell_type": "markdown",
   "id": "c05e8049-e862-46e2-8af3-0aff89ee7d8c",
   "metadata": {},
   "source": [
    "# Disaggregate All Data to Monthly "
   ]
  },
  {
   "cell_type": "code",
   "execution_count": null,
   "id": "01cc44a1-0c99-48e1-a8f3-ea8ed6be235c",
   "metadata": {},
   "outputs": [],
   "source": [
    "# Quarterly GDP \n",
    "plt.plot(gdp)"
   ]
  },
  {
   "cell_type": "code",
   "execution_count": null,
   "id": "897d7372-1093-4394-ae99-63ead732b1dc",
   "metadata": {},
   "outputs": [],
   "source": [
    "# interpolate to months\n",
    "gdp = gdp.resample('MS').interpolate(method='spline', order=2)\n",
    "plt.plot(gdp)"
   ]
  },
  {
   "cell_type": "code",
   "execution_count": null,
   "id": "88cb53fc-dee2-4d6c-a5fb-aaf03d2259ef",
   "metadata": {},
   "outputs": [],
   "source": [
    "# credit deliquency, quarterly\n",
    "plt.plot(default)"
   ]
  },
  {
   "cell_type": "code",
   "execution_count": null,
   "id": "52af00d1-4268-4e24-84cc-605202ffe889",
   "metadata": {},
   "outputs": [],
   "source": [
    "# interpolate to months\n",
    "default = default.resample('MS').interpolate(method='linear', order=1)\n",
    "plt.plot(default)"
   ]
  },
  {
   "cell_type": "code",
   "execution_count": null,
   "id": "abbe6895-2140-42ef-873f-ae2e802b2488",
   "metadata": {},
   "outputs": [],
   "source": [
    "# housing, quarterly\n",
    "plt.plot(housing)"
   ]
  },
  {
   "cell_type": "code",
   "execution_count": null,
   "id": "969c8611-8a8e-404f-866e-cadf30b0d8cb",
   "metadata": {},
   "outputs": [],
   "source": [
    "# interpolate to months\n",
    "housing = housing.resample('MS').interpolate(method='spline', order=2)\n",
    "plt.plot(housing)"
   ]
  },
  {
   "cell_type": "markdown",
   "id": "c3df8ff7-d3cc-4655-a1ed-b1fcea58ebf2",
   "metadata": {},
   "source": [
    "# Combine into Single Data Frame"
   ]
  },
  {
   "cell_type": "code",
   "execution_count": null,
   "id": "7749b080-fc62-412f-9424-bbb7edd575f5",
   "metadata": {},
   "outputs": [],
   "source": [
    "data = pd.DataFrame(t10yr)\n",
    "data.columns = ['t10yr']\n",
    "\n",
    "# convert index to datatime \n",
    "data.index = pd.to_datetime(data.index,format='%Y-%m-%d')\n",
    "\n",
    "# fitler \n",
    "data = data.loc[data.index <= datetime(2024, 3, 1), :]\n",
    "\n",
    "# gdp \n",
    "data = data.join(pd.DataFrame(gdp, columns=['gdp']))\n",
    "# cpi \n",
    "data = data.join(pd.DataFrame(cpi, columns=['cpi']))\n",
    "#unemp\n",
    "data = data.join(pd.DataFrame(unemp, columns=['unemp']))\n",
    "#default\n",
    "data = data.join(pd.DataFrame(default, columns=['default']))\n",
    "#retail\n",
    "data = data.join(pd.DataFrame(retail, columns=['retail']))\n",
    "#ppi\n",
    "data = data.join(pd.DataFrame(ppi, columns=['ppi']))\n",
    "#saving\n",
    "data = data.join(pd.DataFrame(saving, columns=['saving']))\n",
    "#housing\n",
    "data = data.join(pd.DataFrame(housing, columns=['housing']))\n",
    "#oil\n",
    "data = data.join(pd.DataFrame(oil, columns=['oil']))\n",
    "#ffr\n",
    "data = data.join(pd.DataFrame(ffr, columns=['ffr']))\n",
    "#euexch\n",
    "data = data.join(pd.DataFrame(euexch, columns=['euexch']))\n",
    "#chexch\n",
    "data = data.join(pd.DataFrame(chexch, columns=['chexch']))\n",
    "#ruexch\n",
    "data = data.join(pd.DataFrame(ruexch, columns=['ruexch']))\n",
    "\n",
    "\n",
    "# create election year indicator \n",
    "years = [i for i in range(2000, 2025)]\n",
    "elections = [1 if yr % 4 == 0 else 0 for yr in years]\n",
    "election_yrs = pd.DataFrame(zip(years, elections), columns=['yr', 'election_ind'])\n",
    "\n",
    "# join to data\n",
    "#index = data.index\n",
    "#data['yr'] = index.year\n",
    "#data = data.merge(election_yrs, on='yr')\n",
    "#data = data.drop('yr', axis=1)\n",
    "#data.index = index\n",
    "\n",
    "data.head()"
   ]
  },
  {
   "cell_type": "markdown",
   "id": "7486407a-fa3e-4aea-a764-0ccd8c2f0178",
   "metadata": {},
   "source": [
    "- **Add description of each var**"
   ]
  },
  {
   "cell_type": "code",
   "execution_count": null,
   "id": "4b0c8c72-25eb-4d9a-9f63-ca1fd3462870",
   "metadata": {},
   "outputs": [],
   "source": [
    "data.describe()"
   ]
  },
  {
   "cell_type": "code",
   "execution_count": null,
   "id": "a4dceacc-fc6a-42d8-b00a-85e47eba8e18",
   "metadata": {},
   "outputs": [],
   "source": [
    "data.isnull().sum()"
   ]
  },
  {
   "cell_type": "code",
   "execution_count": null,
   "id": "49308161-6d47-4003-81f7-cf2459907805",
   "metadata": {},
   "outputs": [],
   "source": [
    "data.dtypes"
   ]
  },
  {
   "cell_type": "markdown",
   "id": "4ea35c3f-74ef-4dce-be13-4fddf269bb77",
   "metadata": {},
   "source": [
    "# EDA"
   ]
  },
  {
   "cell_type": "code",
   "execution_count": null,
   "id": "555bf3f6-b070-4cf8-9e9f-1196b17afd57",
   "metadata": {},
   "outputs": [],
   "source": [
    "# line plots \n",
    "col_names = data.columns\n",
    "num_vars = len(col_names)\n",
    "\n",
    "fig = plt.figure(figsize=(20, 50))\n",
    "for i in range(num_vars):\n",
    "  ax = fig.add_subplot(num_vars,1,i+1)\n",
    "  ax.plot(data.iloc[:,i],label=col_names[i])\n",
    "  data.iloc[:,i].rolling(6).mean().plot(label='Rolling Mean')\n",
    "  ax.set_title(col_names[i])\n",
    "  ax.set_xlabel('Date')\n",
    "  ax.set_ylabel('Value')\n",
    "  plt.legend()\n",
    "fig.tight_layout(pad=3.0)\n",
    "plt.show()"
   ]
  },
  {
   "cell_type": "code",
   "execution_count": null,
   "id": "fe98e413-5f5b-4166-94b8-b1ca2185591b",
   "metadata": {},
   "outputs": [],
   "source": [
    "# box plot of monthly average 10YT \n",
    "plt.figure(figsize=(20,8))\n",
    "ax = sns.boxplot(x=data.index.year, y=data['t10yr'])\n",
    "ax.set_title('Box Plot by Year 10YT',fontsize=30)"
   ]
  },
  {
   "cell_type": "code",
   "execution_count": null,
   "id": "0cc7796f-1462-4018-9cea-20ae6802a120",
   "metadata": {},
   "outputs": [],
   "source": [
    "# lag plot to see autocorrelation \n",
    "plt.figure(figsize=(10,10))\n",
    "t10yr = data['t10yr']\n",
    "n_lags = 8\n",
    "cols = [t10yr]\n",
    "\n",
    "for i in range(1,(n_lags + 1)):\n",
    "\tcols.append(t10yr.shift(i))\n",
    "df = pd.concat(cols, axis=1)\n",
    "cols = ['t+1']\n",
    "for i in range(1,(n_lags + 1)):\n",
    "\tcols.append('t-' + str(i))\n",
    "df.columns = cols\n",
    "plt.figure(1)\n",
    "for i in range(1,(n_lags + 1)):\n",
    "\tax = plt.subplot(240 + i)\n",
    "\tax.set_title('t+1 vs t-' + str(i))\n",
    "\tplt.scatter(x=df['t+1'].values, y=df['t-'+str(i)].values)\n",
    "plt.tight_layout(pad=2)\n",
    "plt.show()"
   ]
  },
  {
   "cell_type": "code",
   "execution_count": null,
   "id": "aae69c8a-aa73-4392-8077-2bbd99b0dbf7",
   "metadata": {},
   "outputs": [],
   "source": [
    "# scale data \n",
    "scaler = MinMaxScaler(feature_range=(0,1))\n",
    "data_scaled = scaler.fit_transform(data)"
   ]
  },
  {
   "cell_type": "code",
   "execution_count": null,
   "id": "23845317-3fe8-4678-a222-98375e8e52e0",
   "metadata": {},
   "outputs": [],
   "source": [
    "# compare 10YT and features \n",
    "col_names = data.columns\n",
    "scaled_features = data_scaled\n",
    "fig = plt.figure(figsize=(20, 50))\n",
    "for i in range(num_vars):\n",
    "  ax = fig.add_subplot(num_vars,1,i+1)\n",
    "  ax.plot(data.index, scaled_features[:,i], label=col_names[i], c='red')\n",
    "  ax.plot(data.index, data_scaled[:,0], label='10YT', c='grey')\n",
    "  ax.set_title('10YT and ' + col_names[i])\n",
    "  ax.set_xlabel('Date')\n",
    "  ax.set_ylabel('Value')\n",
    "  plt.legend()\n",
    "fig.tight_layout(pad=3.0)\n",
    "plt.show()"
   ]
  },
  {
   "cell_type": "code",
   "execution_count": null,
   "id": "47add665",
   "metadata": {},
   "outputs": [],
   "source": [
    "# distributions\n",
    "data_scaled = pd.DataFrame(data_scaled, columns=col_names)\n",
    "data_scaled.hist(bins=30, figsize=(15, 10))"
   ]
  },
  {
   "cell_type": "code",
   "execution_count": null,
   "id": "f70ac28b-41de-4c49-a070-4e7e4c957d83",
   "metadata": {},
   "outputs": [],
   "source": [
    "# correlation matrix \n",
    "plt.figure(figsize=(15,8))\n",
    "matrix = np.triu(data_scaled.corr(method='spearman'))\n",
    "heat_map = sns.heatmap(data_scaled.corr(method='spearman'),annot=True,annot_kws={\"size\":14},cmap= 'YlGnBu',mask=matrix)\n",
    "heat_map.set_yticklabels(heat_map.get_yticklabels(), rotation=60)\n",
    "heat_map.set_xticklabels(heat_map.get_xticklabels(), rotation=60)\n",
    "plt.tick_params(labelsize=12)\n",
    "plt.title('Heatmap Spearman Correlation')"
   ]
  },
  {
   "cell_type": "code",
   "execution_count": null,
   "id": "deafff5e-4672-4f3f-abeb-e1bad6eb691a",
   "metadata": {},
   "outputs": [],
   "source": [
    "# drop gdp \n",
    "data_scaled = data_scaled.drop(['gdp','retail', 'ppi'], axis=1)\n",
    "plt.figure(figsize=(15,8))\n",
    "matrix = np.triu(data_scaled.corr(method='spearman'))\n",
    "heat_map = sns.heatmap(data_scaled.corr(method='spearman'),annot=True,annot_kws={\"size\":14},cmap= 'YlGnBu',mask=matrix)\n",
    "heat_map.set_yticklabels(heat_map.get_yticklabels(), rotation=60)\n",
    "heat_map.set_xticklabels(heat_map.get_xticklabels(), rotation=60)\n",
    "plt.tick_params(labelsize=12)\n",
    "plt.title('Heatmap Spearman Correlation')"
   ]
  },
  {
   "cell_type": "code",
   "execution_count": null,
   "id": "ef8c82cc-ed68-4396-bead-db3d0733c24d",
   "metadata": {},
   "outputs": [],
   "source": [
    "# parallel co-ordinates plot \n",
    "fig = px.parallel_coordinates(data_scaled, color='t10yr',color_continuous_scale=px.colors.diverging.Tealrose,\n",
    "                              title='Parallel Co-ordinates Plot')\n",
    "\n",
    "fig.show()"
   ]
  }
 ],
 "metadata": {
  "kernelspec": {
   "display_name": "Python 3 (ipykernel)",
   "language": "python",
   "name": "python3"
  },
  "language_info": {
   "codemirror_mode": {
    "name": "ipython",
    "version": 3
   },
   "file_extension": ".py",
   "mimetype": "text/x-python",
   "name": "python",
   "nbconvert_exporter": "python",
   "pygments_lexer": "ipython3",
   "version": "3.9.7"
  }
 },
 "nbformat": 4,
 "nbformat_minor": 5
}
