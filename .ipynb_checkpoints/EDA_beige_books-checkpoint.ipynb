{
 "cells": [
  {
   "cell_type": "markdown",
   "id": "98453647-7ee8-412c-ba5f-64bbfa8c1477",
   "metadata": {},
   "source": [
    "# Import Packages"
   ]
  },
  {
   "cell_type": "code",
   "execution_count": 1,
   "id": "24bc576b-971b-4970-8731-a60a062a8b0b",
   "metadata": {},
   "outputs": [],
   "source": [
    "import numpy as np\n",
    "import pandas as pd\n",
    "import matplotlib.pyplot as plt\n",
    "import seaborn as sns\n",
    "import string\n",
    "import re\n",
    "import nltk\n",
    "\n",
    "from tqdm import trange\n",
    "from nltk import tokenize\n",
    "from nltk.corpus import stopwords\n",
    "from nltk.stem import WordNetLemmatizer\n",
    "from nltk.probability import FreqDist\n",
    "from collections import Counter\n",
    "from sklearn.feature_extraction.text import CountVectorizer"
   ]
  },
  {
   "cell_type": "markdown",
   "id": "cab0208d-1e1e-4744-801d-1c5e7ff694d7",
   "metadata": {},
   "source": [
    "# Import Data"
   ]
  },
  {
   "cell_type": "code",
   "execution_count": 20,
   "id": "3bf2d091-74be-42ae-bce3-8fd43572add2",
   "metadata": {},
   "outputs": [
    {
     "data": {
      "text/html": [
       "<div>\n",
       "<style scoped>\n",
       "    .dataframe tbody tr th:only-of-type {\n",
       "        vertical-align: middle;\n",
       "    }\n",
       "\n",
       "    .dataframe tbody tr th {\n",
       "        vertical-align: top;\n",
       "    }\n",
       "\n",
       "    .dataframe thead th {\n",
       "        text-align: right;\n",
       "    }\n",
       "</style>\n",
       "<table border=\"1\" class=\"dataframe\">\n",
       "  <thead>\n",
       "    <tr style=\"text-align: right;\">\n",
       "      <th></th>\n",
       "      <th>time_index</th>\n",
       "      <th>region</th>\n",
       "      <th>sentence</th>\n",
       "    </tr>\n",
       "  </thead>\n",
       "  <tbody>\n",
       "    <tr>\n",
       "      <th>0</th>\n",
       "      <td>1970-05-01</td>\n",
       "      <td>at</td>\n",
       "      <td>The mood of our directors varies from pessimis...</td>\n",
       "    </tr>\n",
       "    <tr>\n",
       "      <th>1</th>\n",
       "      <td>1970-05-01</td>\n",
       "      <td>at</td>\n",
       "      <td>If any consensus exists, it is that business a...</td>\n",
       "    </tr>\n",
       "    <tr>\n",
       "      <th>2</th>\n",
       "      <td>1970-05-01</td>\n",
       "      <td>at</td>\n",
       "      <td>Many major economic indices should drift downw...</td>\n",
       "    </tr>\n",
       "    <tr>\n",
       "      <th>3</th>\n",
       "      <td>1970-05-01</td>\n",
       "      <td>at</td>\n",
       "      <td>In the pessimistic vein, a leading department ...</td>\n",
       "    </tr>\n",
       "    <tr>\n",
       "      <th>4</th>\n",
       "      <td>1970-05-01</td>\n",
       "      <td>at</td>\n",
       "      <td>The store reported that labor costs were up 8 ...</td>\n",
       "    </tr>\n",
       "  </tbody>\n",
       "</table>\n",
       "</div>"
      ],
      "text/plain": [
       "  time_index region                                           sentence\n",
       "0 1970-05-01     at  The mood of our directors varies from pessimis...\n",
       "1 1970-05-01     at  If any consensus exists, it is that business a...\n",
       "2 1970-05-01     at  Many major economic indices should drift downw...\n",
       "3 1970-05-01     at  In the pessimistic vein, a leading department ...\n",
       "4 1970-05-01     at  The store reported that labor costs were up 8 ..."
      ]
     },
     "execution_count": 20,
     "metadata": {},
     "output_type": "execute_result"
    }
   ],
   "source": [
    "data = pd.read_csv('../data/beige_books_1970_2024.csv')\n",
    "data = data.drop(['Unnamed: 0'], axis=1)\n",
    "data.time_index = pd.to_datetime(data.time_index)\n",
    "data.head()"
   ]
  },
  {
   "cell_type": "markdown",
   "id": "fa0298f8-5abe-4f3f-bd22-fa467bb481cb",
   "metadata": {},
   "source": [
    "# Clean Up "
   ]
  },
  {
   "cell_type": "code",
   "execution_count": 21,
   "id": "b4b93917-7e12-4165-b2cb-c2c8cacd05ed",
   "metadata": {},
   "outputs": [
    {
     "data": {
      "text/html": [
       "<div>\n",
       "<style scoped>\n",
       "    .dataframe tbody tr th:only-of-type {\n",
       "        vertical-align: middle;\n",
       "    }\n",
       "\n",
       "    .dataframe tbody tr th {\n",
       "        vertical-align: top;\n",
       "    }\n",
       "\n",
       "    .dataframe thead th {\n",
       "        text-align: right;\n",
       "    }\n",
       "</style>\n",
       "<table border=\"1\" class=\"dataframe\">\n",
       "  <thead>\n",
       "    <tr style=\"text-align: right;\">\n",
       "      <th></th>\n",
       "      <th>time_index</th>\n",
       "      <th>region</th>\n",
       "      <th>sentence</th>\n",
       "    </tr>\n",
       "  </thead>\n",
       "  <tbody>\n",
       "    <tr>\n",
       "      <th>0</th>\n",
       "      <td>1970-05-01</td>\n",
       "      <td>at</td>\n",
       "      <td>the mood of our directors varies from pessimis...</td>\n",
       "    </tr>\n",
       "    <tr>\n",
       "      <th>1</th>\n",
       "      <td>1970-05-01</td>\n",
       "      <td>at</td>\n",
       "      <td>if any consensus exists it is that business ac...</td>\n",
       "    </tr>\n",
       "    <tr>\n",
       "      <th>2</th>\n",
       "      <td>1970-05-01</td>\n",
       "      <td>at</td>\n",
       "      <td>many major economic indices should drift downw...</td>\n",
       "    </tr>\n",
       "    <tr>\n",
       "      <th>3</th>\n",
       "      <td>1970-05-01</td>\n",
       "      <td>at</td>\n",
       "      <td>in the pessimistic vein a leading department s...</td>\n",
       "    </tr>\n",
       "    <tr>\n",
       "      <th>4</th>\n",
       "      <td>1970-05-01</td>\n",
       "      <td>at</td>\n",
       "      <td>the store reported that labor costs were up 8 ...</td>\n",
       "    </tr>\n",
       "  </tbody>\n",
       "</table>\n",
       "</div>"
      ],
      "text/plain": [
       "  time_index region                                           sentence\n",
       "0 1970-05-01     at  the mood of our directors varies from pessimis...\n",
       "1 1970-05-01     at  if any consensus exists it is that business ac...\n",
       "2 1970-05-01     at  many major economic indices should drift downw...\n",
       "3 1970-05-01     at  in the pessimistic vein a leading department s...\n",
       "4 1970-05-01     at  the store reported that labor costs were up 8 ..."
      ]
     },
     "execution_count": 21,
     "metadata": {},
     "output_type": "execute_result"
    }
   ],
   "source": [
    "data.sentence = data.sentence.str.lower()\n",
    "data.sentence = data.sentence.str.translate(str.maketrans('', '', string.punctuation))\n",
    "data.head()"
   ]
  },
  {
   "cell_type": "markdown",
   "id": "04649e90-54a2-4c73-9007-0c23f83b4af9",
   "metadata": {},
   "source": [
    "# EDA"
   ]
  },
  {
   "cell_type": "markdown",
   "id": "ee5d1174-3d33-4751-a337-5dc2ec1afb25",
   "metadata": {},
   "source": [
    "- Some code used from https://www.kaggle.com/code/harshsingh2209/complete-guide-to-eda-on-text-data"
   ]
  },
  {
   "cell_type": "markdown",
   "id": "b0090c60-3b21-49dd-98f3-62d1c84cbf39",
   "metadata": {},
   "source": [
    "## Sentences "
   ]
  },
  {
   "cell_type": "code",
   "execution_count": 4,
   "id": "355ad08e-fb06-418a-a855-110937d740b6",
   "metadata": {},
   "outputs": [
    {
     "data": {
      "text/plain": [
       "count    327504.000000\n",
       "mean        119.606521\n",
       "std          49.216355\n",
       "min           0.000000\n",
       "25%          84.000000\n",
       "50%         114.000000\n",
       "75%         149.000000\n",
       "max        1072.000000\n",
       "Name: sentence, dtype: float64"
      ]
     },
     "execution_count": 4,
     "metadata": {},
     "output_type": "execute_result"
    }
   ],
   "source": [
    "# get sentence lengths \n",
    "sent_lengths_char = data.sentence.str.len()\n",
    "\n",
    "# length summary stats \n",
    "sent_lengths_char.describe()"
   ]
  },
  {
   "cell_type": "code",
   "execution_count": 5,
   "id": "04671c02-5ad4-4167-9b06-78f552f4d91b",
   "metadata": {},
   "outputs": [
    {
     "data": {
      "text/html": [
       "<div>\n",
       "<style scoped>\n",
       "    .dataframe tbody tr th:only-of-type {\n",
       "        vertical-align: middle;\n",
       "    }\n",
       "\n",
       "    .dataframe tbody tr th {\n",
       "        vertical-align: top;\n",
       "    }\n",
       "\n",
       "    .dataframe thead th {\n",
       "        text-align: right;\n",
       "    }\n",
       "</style>\n",
       "<table border=\"1\" class=\"dataframe\">\n",
       "  <thead>\n",
       "    <tr style=\"text-align: right;\">\n",
       "      <th></th>\n",
       "      <th>time_index</th>\n",
       "      <th>region</th>\n",
       "      <th>sentence</th>\n",
       "    </tr>\n",
       "  </thead>\n",
       "  <tbody>\n",
       "    <tr>\n",
       "      <th>23123</th>\n",
       "      <td>1974-11-01</td>\n",
       "      <td>mi</td>\n",
       "      <td>2</td>\n",
       "    </tr>\n",
       "    <tr>\n",
       "      <th>23125</th>\n",
       "      <td>1974-11-01</td>\n",
       "      <td>mi</td>\n",
       "      <td>3</td>\n",
       "    </tr>\n",
       "    <tr>\n",
       "      <th>23127</th>\n",
       "      <td>1974-11-01</td>\n",
       "      <td>mi</td>\n",
       "      <td>4</td>\n",
       "    </tr>\n",
       "    <tr>\n",
       "      <th>46133</th>\n",
       "      <td>1978-06-01</td>\n",
       "      <td>bo</td>\n",
       "      <td>a</td>\n",
       "    </tr>\n",
       "    <tr>\n",
       "      <th>46135</th>\n",
       "      <td>1978-06-01</td>\n",
       "      <td>bo</td>\n",
       "      <td>b</td>\n",
       "    </tr>\n",
       "    <tr>\n",
       "      <th>139476</th>\n",
       "      <td>1997-03-01</td>\n",
       "      <td>ny</td>\n",
       "      <td>s</td>\n",
       "    </tr>\n",
       "  </tbody>\n",
       "</table>\n",
       "</div>"
      ],
      "text/plain": [
       "        time_index region sentence\n",
       "23123   1974-11-01     mi        2\n",
       "23125   1974-11-01     mi        3\n",
       "23127   1974-11-01     mi        4\n",
       "46133   1978-06-01     bo        a\n",
       "46135   1978-06-01     bo        b\n",
       "139476  1997-03-01     ny        s"
      ]
     },
     "execution_count": 5,
     "metadata": {},
     "output_type": "execute_result"
    }
   ],
   "source": [
    "# look at sentence length = 1 \n",
    "data[sent_lengths_char == 1]"
   ]
  },
  {
   "cell_type": "code",
   "execution_count": 6,
   "id": "47ef95a1-1656-464d-9b1b-9622d8138b54",
   "metadata": {},
   "outputs": [
    {
     "data": {
      "text/plain": [
       "array(['the', 'retail', 'negotiations', 'or income taxes',\n",
       "       'a minneapolisst', 'minneapolisst', 'last year', '2', '3', '4',\n",
       "       '4 per cent', 'paul area', '5 no', '6 and no', '1450 apr', '2137',\n",
       "       'this year', 'recent months', 'strong', '', 'rate', 'weather',\n",
       "       'generally slow', 'banks', 'during march', 'a', 'b', 'expansion',\n",
       "       'district', 'economic boom', 'and supplies', 'several years',\n",
       "       'to be vigorous', 'paul in midjuly', 'other crops', 'quarter and',\n",
       "       'order backlogs', 'mt', 'capital goods', 'paul retailers',\n",
       "       'labor markets', 'transportation', 'see finance', 'lanstonco',\n",
       "       'most', 'however', 'but many homes', 'traffic', 'remains weak',\n",
       "       'also', 'in georgia', 'nevertheless', 'minneapolis',\n",
       "       'increasingly', 'construction', 'twenty', '1986', 'ge',\n",
       "       'be attainable', 'agriculture', 'farm incomes', 'worth',\n",
       "       'in dallasft', 'from 080 per lb', 'a year ago', 'from 110 per lb',\n",
       "       'cloud minnesota', 'to rise', 'worth area', 'paul',\n",
       "       'boeing however', 'in addition ibm', 'ibm', 'sd', 'sd area',\n",
       "       'sioux falls sd', 'employment', '1 percent', 'and below plan',\n",
       "       'sales', 'wages', 'in addition ge', 'no longer', 'lows districts',\n",
       "       'an ok', 'looking ahead', 'st', 's improvements', 's farmers',\n",
       "       's pace', 's levels', 's businesses', 's level', 'california',\n",
       "       's end', 'the district', 'retailers', 'expectations',\n",
       "       's and women', 'lackluster', 'extraordinary', 'the dollar',\n",
       "       'good sales', 'still', 's clothing', 'degrees in june',\n",
       "       'manhattan', 's', 'taxfree week', 'great shape', 'cleaner',\n",
       "       's blizzard', 'respondents', 'jobhopping', 'taxfree',\n",
       "       'hale and hearty', 'mostly flat', 'or', 'steady', 'home builder',\n",
       "       'market', 'cards', 'help', 'paul firm', 'early reports',\n",
       "       'the mix varies', 'paul banker', 'was mixed', 'in st', 'the st',\n",
       "       'cloud minn', 'a st', 'paul jobs', 'in the suburbs', 'a recent st',\n",
       "       'a december st', 'postal service', 'had dried up',\n",
       "       'paularea plants', 'visits to mt', 'remained strong', 'summary',\n",
       "       'manufacturing', 'bankingfinance', 'pricescosts', 'retail sales',\n",
       "       'banking', 'prices', 'labor market', 'services', 'energy',\n",
       "       'varied', 'manufacturers', 'enormous', 'wage pressure',\n",
       "       'very very slow', 'boston', 's cyclical peak', 's highways',\n",
       "       'bargains', 's hospital', 'very difficult', 'but', 'and',\n",
       "       'up a little bit', 'an issue', 'a rough patch', 'very busy',\n",
       "       'hours had been', 'hesitant', 'didn', 'pretty slow',\n",
       "       'slower sales', 'very quiet', 'renttoown', 'some pickup',\n",
       "       'drop off', 'few projects', 'in the pipeline', 'tepid', 'richmond',\n",
       "       'return to top', 'sales in st', 'to the other', 'remained low',\n",
       "       'reasons varied', 'were lucky', 'auto sales rose',\n",
       "       'home sales rose', 'outlooks varied'], dtype=object)"
      ]
     },
     "execution_count": 6,
     "metadata": {},
     "output_type": "execute_result"
    }
   ],
   "source": [
    "# look at sentence length <= 15 \n",
    "data[sent_lengths_char <= 15].sentence.unique()"
   ]
  },
  {
   "cell_type": "markdown",
   "id": "c35e7154-4599-413e-8d73-181be3241dbb",
   "metadata": {},
   "source": [
    "- one or two word sentences may be topics, as BB intoriduced topics later on"
   ]
  },
  {
   "cell_type": "markdown",
   "id": "f859a353-4e1e-4b0c-92dd-07d0259ddda3",
   "metadata": {},
   "source": [
    "## Words"
   ]
  },
  {
   "cell_type": "code",
   "execution_count": 71,
   "id": "92b44f7e-86c9-4990-8715-905945333d34",
   "metadata": {},
   "outputs": [
    {
     "data": {
      "text/plain": [
       "['the',\n",
       " 'mood',\n",
       " 'of',\n",
       " 'our',\n",
       " 'directors',\n",
       " 'varies',\n",
       " 'from',\n",
       " 'pessimism',\n",
       " 'to',\n",
       " 'optimism']"
      ]
     },
     "execution_count": 71,
     "metadata": {},
     "output_type": "execute_result"
    }
   ],
   "source": [
    "data['txt_list'] = data.sentence.str.split()\n",
    "word_lists = data.txt_list\n",
    "data.txt_list[0]"
   ]
  },
  {
   "cell_type": "code",
   "execution_count": 8,
   "id": "a35f74fb-dac8-4517-9728-3f82472b8df1",
   "metadata": {},
   "outputs": [
    {
     "data": {
      "text/plain": [
       "count    327504.000000\n",
       "mean         18.568650\n",
       "std           7.960989\n",
       "min           0.000000\n",
       "25%          13.000000\n",
       "50%          18.000000\n",
       "75%          23.000000\n",
       "max         186.000000\n",
       "Name: txt_list, dtype: float64"
      ]
     },
     "execution_count": 8,
     "metadata": {},
     "output_type": "execute_result"
    }
   ],
   "source": [
    "words_per_sent = data.txt_list.str.len()\n",
    "words_per_sent.describe()"
   ]
  },
  {
   "cell_type": "code",
   "execution_count": 9,
   "id": "c30e187f-f32b-490e-b781-0ad77322dad1",
   "metadata": {},
   "outputs": [
    {
     "data": {
      "text/plain": [
       "['',\n",
       " '1 percent',\n",
       " '1450 apr',\n",
       " '1986',\n",
       " '2',\n",
       " '2137',\n",
       " '3',\n",
       " '4',\n",
       " '5 no',\n",
       " 'a',\n",
       " 'a minneapolisst',\n",
       " 'a st',\n",
       " 'absolutely awful',\n",
       " 'agricultural credit',\n",
       " 'agricultural highlights',\n",
       " 'agriculture',\n",
       " 'also',\n",
       " 'an issue',\n",
       " 'an ok',\n",
       " 'and',\n",
       " 'and supplies',\n",
       " 'automobile sales',\n",
       " 'b',\n",
       " 'banking',\n",
       " 'bankingfinance',\n",
       " 'banks',\n",
       " 'bargains',\n",
       " 'be attainable',\n",
       " 'boeing however',\n",
       " 'boston',\n",
       " 'business spending',\n",
       " 'but',\n",
       " 'california',\n",
       " 'capital goods',\n",
       " 'cards',\n",
       " 'christmas season',\n",
       " 'cleaner',\n",
       " 'cloud minn',\n",
       " 'cloud minnesota',\n",
       " 'considerable briskness',\n",
       " 'construction',\n",
       " 'construction increased',\n",
       " 'construction sites',\n",
       " 'constructionreal estate',\n",
       " 'consumer spending',\n",
       " 'didn',\n",
       " 'district',\n",
       " 'district comments',\n",
       " 'drop off',\n",
       " 'during march',\n",
       " 'early reports',\n",
       " 'economic boom',\n",
       " 'economic situation',\n",
       " 'employment',\n",
       " 'energy',\n",
       " 'enormous',\n",
       " 'everybodys hustling',\n",
       " 'expansion',\n",
       " 'expectations',\n",
       " 'expectations deteriorated',\n",
       " 'extraordinary',\n",
       " 'farm incomes',\n",
       " 'few projects',\n",
       " 'financial services',\n",
       " 'freight transportation',\n",
       " 'ge',\n",
       " 'generally expanding',\n",
       " 'generally slow',\n",
       " 'generally sluggish',\n",
       " 'good sales',\n",
       " 'great shape',\n",
       " 'help',\n",
       " 'hesitant',\n",
       " 'home builder',\n",
       " 'hospitality industry',\n",
       " 'housingconstruction',\n",
       " 'however',\n",
       " 'ibm',\n",
       " 'in dallasft',\n",
       " 'in georgia',\n",
       " 'in minneapolisst',\n",
       " 'in st',\n",
       " 'increasingly',\n",
       " 'jobhopping',\n",
       " 'labor market',\n",
       " 'labor markets',\n",
       " 'lackluster',\n",
       " 'lanstonco',\n",
       " 'large minneapolisst',\n",
       " 'last year',\n",
       " 'looking ahead',\n",
       " 'lows districts',\n",
       " 'major minneapolisst',\n",
       " 'manhattan',\n",
       " 'manufacturers',\n",
       " 'manufacturing',\n",
       " 'many minneapolisst',\n",
       " 'market',\n",
       " 'midtown manhattan',\n",
       " 'minneapolis',\n",
       " 'minneapolisst',\n",
       " 'most',\n",
       " 'mostly flat',\n",
       " 'mt',\n",
       " 'negotiations',\n",
       " 'nevertheless',\n",
       " 'no longer',\n",
       " 'nonresidential construction',\n",
       " 'of disintermediation',\n",
       " 'or',\n",
       " 'order backlogs',\n",
       " 'other crops',\n",
       " 'outlooks varied',\n",
       " 'outlooks weakened',\n",
       " 'particularly steel',\n",
       " 'paul',\n",
       " 'paul area',\n",
       " 'paul banker',\n",
       " 'paul firm',\n",
       " 'paul jobs',\n",
       " 'paul retailers',\n",
       " 'paularea plants',\n",
       " 'postal service',\n",
       " 'pretty slow',\n",
       " 'prices',\n",
       " 'pricescosts',\n",
       " 'quarter and',\n",
       " 'rate',\n",
       " 'reasons varied',\n",
       " 'recent minneapolisst',\n",
       " 'recent months',\n",
       " 'remained low',\n",
       " 'remained strong',\n",
       " 'remains weak',\n",
       " 'renttoown',\n",
       " 'respondents',\n",
       " 'retail',\n",
       " 'retail sales',\n",
       " 'retailers',\n",
       " 'retailers reported',\n",
       " 'richmond',\n",
       " 'ridiculously low',\n",
       " 's',\n",
       " 's blizzard',\n",
       " 's businesses',\n",
       " 's clothing',\n",
       " 's end',\n",
       " 's farmers',\n",
       " 's highways',\n",
       " 's hospital',\n",
       " 's improvements',\n",
       " 's level',\n",
       " 's levels',\n",
       " 's pace',\n",
       " 'sales',\n",
       " 'scattered callback',\n",
       " 'sd',\n",
       " 'sd area',\n",
       " 'see finance',\n",
       " 'services',\n",
       " 'several minneapolisst',\n",
       " 'several years',\n",
       " 'slower sales',\n",
       " 'some pickup',\n",
       " 'st',\n",
       " 'steady',\n",
       " 'still',\n",
       " 'strong',\n",
       " 'summary',\n",
       " 'suppliers plants',\n",
       " 'taxfree',\n",
       " 'taxfree week',\n",
       " 'tepid',\n",
       " 'the',\n",
       " 'the district',\n",
       " 'the dollar',\n",
       " 'the minneapolisst',\n",
       " 'the st',\n",
       " 'this year',\n",
       " 'to rise',\n",
       " 'traffic',\n",
       " 'transportation',\n",
       " 'twenty',\n",
       " 'unemployment nsa',\n",
       " 'varied',\n",
       " 'very busy',\n",
       " 'very difficult',\n",
       " 'very quiet',\n",
       " 'wage pressure',\n",
       " 'wages',\n",
       " 'was mixed',\n",
       " 'weather',\n",
       " 'were lucky',\n",
       " 'worth',\n",
       " 'worth area']"
      ]
     },
     "execution_count": 9,
     "metadata": {},
     "output_type": "execute_result"
    }
   ],
   "source": [
    "# pull out 1-2 word sentences to explore provided topics \n",
    "sorted(word_lists[words_per_sent <= 2].str.join(' ').unique())"
   ]
  },
  {
   "cell_type": "code",
   "execution_count": 10,
   "id": "5a1a1938-7c65-4dd1-918d-0f4566625f45",
   "metadata": {},
   "outputs": [
    {
     "data": {
      "text/plain": [
       "['agriculture',\n",
       " 'automobile sales',\n",
       " 'banking',\n",
       " 'business spending',\n",
       " 'capital goods',\n",
       " 'construction',\n",
       " 'consumer spending',\n",
       " 'economic situation',\n",
       " 'employment',\n",
       " 'energy',\n",
       " 'expectations',\n",
       " 'financial services',\n",
       " 'freight transportation',\n",
       " 'hospitality industry',\n",
       " 'housing construction',\n",
       " 'labor market',\n",
       " 'manufacturing',\n",
       " 'market',\n",
       " 'nonresidential construction',\n",
       " 'retail',\n",
       " 'sales',\n",
       " 'services',\n",
       " 'farmers',\n",
       " 'highways',\n",
       " 'hospital',\n",
       " 'the dollar',\n",
       " 'traffic',\n",
       " 'transportation',\n",
       " 'unemployment nsa',\n",
       " 'wages',\n",
       " 'weather']"
      ]
     },
     "execution_count": 10,
     "metadata": {},
     "output_type": "execute_result"
    }
   ],
   "source": [
    "possible_topics = ['agriculture', 'automobile sales', 'banking', 'business spending', 'capital goods', 'construction', 'consumer spending', 'economic situation', 'employment', 'energy', 'expectations', 'financial services', 'freight transportation', 'hospitality industry', 'housing construction', 'labor market', 'manufacturing', 'market', 'nonresidential construction', 'retail', 'sales', 'services', 'farmers', 'highways', 'hospital', 'the dollar', 'traffic', 'transportation', 'unemployment nsa', 'wages', 'weather']\n",
    "possible_topics "
   ]
  },
  {
   "cell_type": "code",
   "execution_count": 74,
   "id": "3c506fd4-39df-403d-8ca6-c11d36c532da",
   "metadata": {},
   "outputs": [
    {
     "name": "stderr",
     "output_type": "stream",
     "text": [
      "100%|\u001b[32m█████████████████████████████████████████████████████████████████████████████████████████████████████\u001b[0m| 327504/327504 [00:01<00:00, 239566.04it/s]\u001b[0m\n"
     ]
    },
    {
     "data": {
      "text/plain": [
       "6081307"
      ]
     },
     "execution_count": 74,
     "metadata": {},
     "output_type": "execute_result"
    }
   ],
   "source": [
    "# create corpus of words \n",
    "corpus = []\n",
    "for i in trange(data.shape[0], ncols=150, nrows=10, colour='green', smoothing=0.8):\n",
    "    corpus += data['txt_list'][i]\n",
    "len(corpus)"
   ]
  },
  {
   "cell_type": "code",
   "execution_count": 12,
   "id": "aed984eb-9fb2-4c79-b8ea-f14683077c68",
   "metadata": {},
   "outputs": [
    {
     "data": {
      "text/plain": [
       "29557"
      ]
     },
     "execution_count": 12,
     "metadata": {},
     "output_type": "execute_result"
    }
   ],
   "source": [
    "# size of vocabularly \n",
    "len(pd.Series(corpus).unique())"
   ]
  },
  {
   "cell_type": "code",
   "execution_count": 13,
   "id": "e7dbbf14-dd06-40e2-8353-26ded0fff250",
   "metadata": {},
   "outputs": [
    {
     "data": {
      "text/plain": [
       "[('the', 250676),\n",
       " ('in', 233685),\n",
       " ('and', 200810),\n",
       " ('of', 143882),\n",
       " ('to', 143397),\n",
       " ('a', 101629),\n",
       " ('for', 72994),\n",
       " ('that', 67008),\n",
       " ('sales', 54095),\n",
       " ('are', 49720),\n",
       " ('were', 48034),\n",
       " ('district', 41756),\n",
       " ('reported', 40836),\n",
       " ('prices', 38040),\n",
       " ('activity', 37304),\n",
       " ('demand', 36460),\n",
       " ('as', 35544),\n",
       " ('have', 34749),\n",
       " ('is', 33360),\n",
       " ('with', 32733),\n",
       " ('at', 31992),\n",
       " ('some', 31668),\n",
       " ('but', 30837),\n",
       " ('contacts', 30703),\n",
       " ('was', 29680),\n",
       " ('from', 29307),\n",
       " ('on', 29168),\n",
       " ('year', 29149),\n",
       " ('percent', 27510),\n",
       " ('new', 27228)]"
      ]
     },
     "execution_count": 13,
     "metadata": {},
     "output_type": "execute_result"
    }
   ],
   "source": [
    "# Top 20 words \n",
    "Counter(corpus).most_common(30)"
   ]
  },
  {
   "cell_type": "markdown",
   "id": "f22873ab-b836-49c3-8982-3b6b91184502",
   "metadata": {},
   "source": [
    "# By Region"
   ]
  },
  {
   "cell_type": "code",
   "execution_count": 75,
   "id": "5b8b9115-134b-4067-a1ee-3e7d228c3473",
   "metadata": {},
   "outputs": [
    {
     "name": "stderr",
     "output_type": "stream",
     "text": [
      "/var/folders/f6/7fg5p95n44sd8qk792nr68d40000gn/T/ipykernel_1458/2510233678.py:3: SettingWithCopyWarning: \n",
      "A value is trying to be set on a copy of a slice from a DataFrame.\n",
      "Try using .loc[row_indexer,col_indexer] = value instead\n",
      "\n",
      "See the caveats in the documentation: https://pandas.pydata.org/pandas-docs/stable/user_guide/indexing.html#returning-a-view-versus-a-copy\n",
      "  data_sub['txt_list'] = data_sub.sentence.str.split()\n"
     ]
    },
    {
     "data": {
      "text/html": [
       "<div>\n",
       "<style scoped>\n",
       "    .dataframe tbody tr th:only-of-type {\n",
       "        vertical-align: middle;\n",
       "    }\n",
       "\n",
       "    .dataframe tbody tr th {\n",
       "        vertical-align: top;\n",
       "    }\n",
       "\n",
       "    .dataframe thead th {\n",
       "        text-align: right;\n",
       "    }\n",
       "</style>\n",
       "<table border=\"1\" class=\"dataframe\">\n",
       "  <thead>\n",
       "    <tr style=\"text-align: right;\">\n",
       "      <th></th>\n",
       "      <th>time_index</th>\n",
       "      <th>region</th>\n",
       "      <th>sentence</th>\n",
       "      <th>txt_list</th>\n",
       "    </tr>\n",
       "  </thead>\n",
       "  <tbody>\n",
       "    <tr>\n",
       "      <th>155175</th>\n",
       "      <td>2000-01-01</td>\n",
       "      <td>at</td>\n",
       "      <td>reports from contacts throughout the southeast...</td>\n",
       "      <td>[reports, from, contacts, throughout, the, sou...</td>\n",
       "    </tr>\n",
       "    <tr>\n",
       "      <th>155176</th>\n",
       "      <td>2000-01-01</td>\n",
       "      <td>at</td>\n",
       "      <td>holiday sales were strong according to most co...</td>\n",
       "      <td>[holiday, sales, were, strong, according, to, ...</td>\n",
       "    </tr>\n",
       "    <tr>\n",
       "      <th>155177</th>\n",
       "      <td>2000-01-01</td>\n",
       "      <td>at</td>\n",
       "      <td>singlefamily construction is mixed by market a...</td>\n",
       "      <td>[singlefamily, construction, is, mixed, by, ma...</td>\n",
       "    </tr>\n",
       "    <tr>\n",
       "      <th>155178</th>\n",
       "      <td>2000-01-01</td>\n",
       "      <td>at</td>\n",
       "      <td>the outlook for the tourism and hospitality se...</td>\n",
       "      <td>[the, outlook, for, the, tourism, and, hospita...</td>\n",
       "    </tr>\n",
       "    <tr>\n",
       "      <th>155179</th>\n",
       "      <td>2000-01-01</td>\n",
       "      <td>at</td>\n",
       "      <td>bankers report that the century rollover went ...</td>\n",
       "      <td>[bankers, report, that, the, century, rollover...</td>\n",
       "    </tr>\n",
       "  </tbody>\n",
       "</table>\n",
       "</div>"
      ],
      "text/plain": [
       "       time_index region                                           sentence  \\\n",
       "155175 2000-01-01     at  reports from contacts throughout the southeast...   \n",
       "155176 2000-01-01     at  holiday sales were strong according to most co...   \n",
       "155177 2000-01-01     at  singlefamily construction is mixed by market a...   \n",
       "155178 2000-01-01     at  the outlook for the tourism and hospitality se...   \n",
       "155179 2000-01-01     at  bankers report that the century rollover went ...   \n",
       "\n",
       "                                                 txt_list  \n",
       "155175  [reports, from, contacts, throughout, the, sou...  \n",
       "155176  [holiday, sales, were, strong, according, to, ...  \n",
       "155177  [singlefamily, construction, is, mixed, by, ma...  \n",
       "155178  [the, outlook, for, the, tourism, and, hospita...  \n",
       "155179  [bankers, report, that, the, century, rollover...  "
      ]
     },
     "execution_count": 75,
     "metadata": {},
     "output_type": "execute_result"
    }
   ],
   "source": [
    "# lets look at a subset of the data to limit runtime \n",
    "data_sub = data[data.time_index.dt.year.isin([2000, 2010, 2020])]\n",
    "data_sub['txt_list'] = data_sub.sentence.str.split()\n",
    "data_sub.head()"
   ]
  },
  {
   "cell_type": "code",
   "execution_count": 80,
   "id": "3bbf0085-1c7b-4806-abf2-4a9e1833c071",
   "metadata": {},
   "outputs": [],
   "source": [
    "regions = (\"at\", \"bo\", \"ch\", \"cl\", \"da\", \"kc\", \"mi\", \"ny\", \"ph\", \"ri\", \"sf\", \"sl\", \"su\")\n",
    "\n",
    "data_sub_reg = {key: [] for key in regions}\n",
    "\n",
    "for region in regions:\n",
    "    data_sub_reg[region] = data_sub[data_sub.region == region].reset_index()"
   ]
  },
  {
   "cell_type": "markdown",
   "id": "4ae296d1-bc90-4c87-802b-098201d837be",
   "metadata": {},
   "source": [
    "## Atlanta"
   ]
  },
  {
   "cell_type": "code",
   "execution_count": 91,
   "id": "d87fdf42-16fa-4ba2-b7d3-1231a806b281",
   "metadata": {},
   "outputs": [
    {
     "data": {
      "image/png": "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",
      "text/plain": [
       "<Figure size 640x480 with 1 Axes>"
      ]
     },
     "metadata": {},
     "output_type": "display_data"
    }
   ],
   "source": [
    "cv = CountVectorizer(ngram_range=(2,2))\n",
    "bigrams = cv.fit_transform(data_sub_reg['at']['sentence'])\n",
    "\n",
    "count_values = bigrams.toarray().sum(axis=0)\n",
    "ngram_freq = pd.DataFrame(sorted([(count_values[i], k) for k, i in cv.vocabulary_.items()], reverse = True))\n",
    "ngram_freq.columns = [\"frequency\", \"ngram\"]\n",
    "\n",
    "sns.barplot(x=ngram_freq['frequency'][:10], y=ngram_freq['ngram'][:10])\n",
    "plt.title('Top 10 Most Frequently Occuring Bigrams')\n",
    "plt.show()"
   ]
  },
  {
   "cell_type": "markdown",
   "id": "6f491217-8576-4951-9739-c593f1b2e0c8",
   "metadata": {},
   "source": [
    "## Boston"
   ]
  },
  {
   "cell_type": "code",
   "execution_count": 95,
   "id": "ec6477ec-87ac-42b6-93c2-2fc3b6a04eaf",
   "metadata": {},
   "outputs": [
    {
     "data": {
      "image/png": "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